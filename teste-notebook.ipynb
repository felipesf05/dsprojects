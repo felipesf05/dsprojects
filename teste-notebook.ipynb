{
 "nbformat": 4,
 "nbformat_minor": 2,
 "metadata": {
  "language_info": {
   "name": "python",
   "codemirror_mode": {
    "name": "ipython",
    "version": 3
   },
   "version": "3.7.4-final"
  },
  "orig_nbformat": 2,
  "file_extension": ".py",
  "mimetype": "text/x-python",
  "name": "python",
  "npconvert_exporter": "python",
  "pygments_lexer": "ipython3",
  "version": 3,
  "kernelspec": {
   "name": "python3",
   "display_name": "Python 3"
  }
 },
 "cells": [
  {
   "cell_type": "code",
   "execution_count": 17,
   "metadata": {},
   "outputs": [],
   "source": [
    "import numpy as np\n",
    "import seaborn as sns"
   ]
  },
  {
   "cell_type": "code",
   "execution_count": 9,
   "metadata": {},
   "outputs": [
    {
     "output_type": "stream",
     "name": "stdout",
     "text": "Hello World!\n"
    }
   ],
   "source": [
    "print(\"Hello World!\")"
   ]
  },
  {
   "cell_type": "markdown",
   "metadata": {},
   "source": [
    "### Definindo algumas variáveis"
   ]
  },
  {
   "cell_type": "code",
   "execution_count": 10,
   "metadata": {},
   "outputs": [],
   "source": [
    "msg = \"data science is fun...\""
   ]
  },
  {
   "cell_type": "code",
   "execution_count": null,
   "metadata": {},
   "outputs": [],
   "source": [
    "msg.capitalize()"
   ]
  },
  {
   "cell_type": "code",
   "execution_count": null,
   "metadata": {},
   "outputs": [],
   "source": [
    "msg.upper()"
   ]
  },
  {
   "cell_type": "code",
   "execution_count": null,
   "metadata": {},
   "outputs": [],
   "source": [
    "msg.lower()"
   ]
  },
  {
   "cell_type": "code",
   "execution_count": 3,
   "metadata": {},
   "outputs": [],
   "source": [
    "sx = np.random.normal(5,2,1000)"
   ]
  },
  {
   "cell_type": "code",
   "execution_count": 5,
   "metadata": {},
   "outputs": [
    {
     "output_type": "execute_result",
     "data": {
      "text/plain": "array([4.66091353, 7.3672901 , 4.43325469, 1.94572309, 5.20002602,\n       4.44077378, 1.71148773, 4.82168504, 3.31739496, 3.86539978])"
     },
     "metadata": {},
     "execution_count": 5
    }
   ],
   "source": [
    "sx[:10]"
   ]
  },
  {
   "cell_type": "markdown",
   "metadata": {},
   "source": [
    "### Gráficos utilizando Seaborn"
   ]
  },
  {
   "cell_type": "code",
   "execution_count": 11,
   "metadata": {},
   "outputs": [
    {
     "output_type": "execute_result",
     "data": {
      "text/plain": "<matplotlib.axes._subplots.AxesSubplot at 0x1a12aa1750>"
     },
     "metadata": {},
     "execution_count": 11
    },
    {
     "output_type": "display_data",
     "data": {
      "text/plain": "<Figure size 432x288 with 1 Axes>",
      "image/svg+xml": "<?xml version=\"1.0\" encoding=\"utf-8\" standalone=\"no\"?>\n<!DOCTYPE svg PUBLIC \"-//W3C//DTD SVG 1.1//EN\"\n  \"http://www.w3.org/Graphics/SVG/1.1/DTD/svg11.dtd\">\n<!-- Created with matplotlib (https://matplotlib.org/) -->\n<svg height=\"248.518125pt\" version=\"1.1\" viewBox=\"0 0 378.465625 248.518125\" width=\"378.465625pt\" xmlns=\"http://www.w3.org/2000/svg\" xmlns:xlink=\"http://www.w3.org/1999/xlink\">\n <defs>\n  <style type=\"text/css\">\n*{stroke-linecap:butt;stroke-linejoin:round;}\n  </style>\n </defs>\n <g id=\"figure_1\">\n  <g id=\"patch_1\">\n   <path d=\"M 0 248.518125 \nL 378.465625 248.518125 \nL 378.465625 0 \nL 0 0 \nz\n\" style=\"fill:none;\"/>\n  </g>\n  <g id=\"axes_1\">\n   <g id=\"patch_2\">\n    <path d=\"M 36.465625 224.64 \nL 371.265625 224.64 \nL 371.265625 7.2 \nL 36.465625 7.2 \nz\n\" style=\"fill:#ffffff;\"/>\n   </g>\n   <g id=\"patch_3\">\n    <path clip-path=\"url(#pba37a4c341)\" d=\"M 82.30432 224.64 \nL 92.434429 224.64 \nL 92.434429 220.974766 \nL 82.30432 220.974766 \nz\n\" style=\"fill:#1f77b4;opacity:0.4;\"/>\n   </g>\n   <g id=\"patch_4\">\n    <path clip-path=\"url(#pba37a4c341)\" d=\"M 92.434429 224.64 \nL 102.564538 224.64 \nL 102.564538 219.142149 \nL 92.434429 219.142149 \nz\n\" style=\"fill:#1f77b4;opacity:0.4;\"/>\n   </g>\n   <g id=\"patch_5\">\n    <path clip-path=\"url(#pba37a4c341)\" d=\"M 102.564538 224.64 \nL 112.694646 224.64 \nL 112.694646 215.476915 \nL 102.564538 215.476915 \nz\n\" style=\"fill:#1f77b4;opacity:0.4;\"/>\n   </g>\n   <g id=\"patch_6\">\n    <path clip-path=\"url(#pba37a4c341)\" d=\"M 112.694646 224.64 \nL 122.824755 224.64 \nL 122.824755 200.81598 \nL 112.694646 200.81598 \nz\n\" style=\"fill:#1f77b4;opacity:0.4;\"/>\n   </g>\n   <g id=\"patch_7\">\n    <path clip-path=\"url(#pba37a4c341)\" d=\"M 122.824755 224.64 \nL 132.954864 224.64 \nL 132.954864 198.983363 \nL 122.824755 198.983363 \nz\n\" style=\"fill:#1f77b4;opacity:0.4;\"/>\n   </g>\n   <g id=\"patch_8\">\n    <path clip-path=\"url(#pba37a4c341)\" d=\"M 132.954864 224.64 \nL 143.084973 224.64 \nL 143.084973 182.48981 \nL 132.954864 182.48981 \nz\n\" style=\"fill:#1f77b4;opacity:0.4;\"/>\n   </g>\n   <g id=\"patch_9\">\n    <path clip-path=\"url(#pba37a4c341)\" d=\"M 143.084973 224.64 \nL 153.215081 224.64 \nL 153.215081 165.996258 \nL 143.084973 165.996258 \nz\n\" style=\"fill:#1f77b4;opacity:0.4;\"/>\n   </g>\n   <g id=\"patch_10\">\n    <path clip-path=\"url(#pba37a4c341)\" d=\"M 153.215081 224.64 \nL 163.34519 224.64 \nL 163.34519 103.687282 \nL 153.215081 103.687282 \nz\n\" style=\"fill:#1f77b4;opacity:0.4;\"/>\n   </g>\n   <g id=\"patch_11\">\n    <path clip-path=\"url(#pba37a4c341)\" d=\"M 163.34519 224.64 \nL 173.475299 224.64 \nL 173.475299 114.682984 \nL 163.34519 114.682984 \nz\n\" style=\"fill:#1f77b4;opacity:0.4;\"/>\n   </g>\n   <g id=\"patch_12\">\n    <path clip-path=\"url(#pba37a4c341)\" d=\"M 173.475299 224.64 \nL 183.605408 224.64 \nL 183.605408 85.361113 \nL 173.475299 85.361113 \nz\n\" style=\"fill:#1f77b4;opacity:0.4;\"/>\n   </g>\n   <g id=\"patch_13\">\n    <path clip-path=\"url(#pba37a4c341)\" d=\"M 183.605408 224.64 \nL 193.735516 224.64 \nL 193.735516 35.880455 \nL 183.605408 35.880455 \nz\n\" style=\"fill:#1f77b4;opacity:0.4;\"/>\n   </g>\n   <g id=\"patch_14\">\n    <path clip-path=\"url(#pba37a4c341)\" d=\"M 193.735516 224.64 \nL 203.865625 224.64 \nL 203.865625 17.554286 \nL 193.735516 17.554286 \nz\n\" style=\"fill:#1f77b4;opacity:0.4;\"/>\n   </g>\n   <g id=\"patch_15\">\n    <path clip-path=\"url(#pba37a4c341)\" d=\"M 203.865625 224.64 \nL 213.995734 224.64 \nL 213.995734 37.713072 \nL 203.865625 37.713072 \nz\n\" style=\"fill:#1f77b4;opacity:0.4;\"/>\n   </g>\n   <g id=\"patch_16\">\n    <path clip-path=\"url(#pba37a4c341)\" d=\"M 213.995734 224.64 \nL 224.125842 224.64 \nL 224.125842 48.708774 \nL 213.995734 48.708774 \nz\n\" style=\"fill:#1f77b4;opacity:0.4;\"/>\n   </g>\n   <g id=\"patch_17\">\n    <path clip-path=\"url(#pba37a4c341)\" d=\"M 224.125842 224.64 \nL 234.255951 224.64 \nL 234.255951 61.537092 \nL 224.125842 61.537092 \nz\n\" style=\"fill:#1f77b4;opacity:0.4;\"/>\n   </g>\n   <g id=\"patch_18\">\n    <path clip-path=\"url(#pba37a4c341)\" d=\"M 234.255951 224.64 \nL 244.38606 224.64 \nL 244.38606 96.356814 \nL 234.255951 96.356814 \nz\n\" style=\"fill:#1f77b4;opacity:0.4;\"/>\n   </g>\n   <g id=\"patch_19\">\n    <path clip-path=\"url(#pba37a4c341)\" d=\"M 244.38606 224.64 \nL 254.516169 224.64 \nL 254.516169 151.335322 \nL 244.38606 151.335322 \nz\n\" style=\"fill:#1f77b4;opacity:0.4;\"/>\n   </g>\n   <g id=\"patch_20\">\n    <path clip-path=\"url(#pba37a4c341)\" d=\"M 254.516169 224.64 \nL 264.646277 224.64 \nL 264.646277 153.167939 \nL 254.516169 153.167939 \nz\n\" style=\"fill:#1f77b4;opacity:0.4;\"/>\n   </g>\n   <g id=\"patch_21\">\n    <path clip-path=\"url(#pba37a4c341)\" d=\"M 264.646277 224.64 \nL 274.776386 224.64 \nL 274.776386 184.322427 \nL 264.646277 184.322427 \nz\n\" style=\"fill:#1f77b4;opacity:0.4;\"/>\n   </g>\n   <g id=\"patch_22\">\n    <path clip-path=\"url(#pba37a4c341)\" d=\"M 274.776386 224.64 \nL 284.906495 224.64 \nL 284.906495 197.150746 \nL 274.776386 197.150746 \nz\n\" style=\"fill:#1f77b4;opacity:0.4;\"/>\n   </g>\n   <g id=\"patch_23\">\n    <path clip-path=\"url(#pba37a4c341)\" d=\"M 284.906495 224.64 \nL 295.036604 224.64 \nL 295.036604 206.313831 \nL 284.906495 206.313831 \nz\n\" style=\"fill:#1f77b4;opacity:0.4;\"/>\n   </g>\n   <g id=\"patch_24\">\n    <path clip-path=\"url(#pba37a4c341)\" d=\"M 295.036604 224.64 \nL 305.166712 224.64 \nL 305.166712 217.309532 \nL 295.036604 217.309532 \nz\n\" style=\"fill:#1f77b4;opacity:0.4;\"/>\n   </g>\n   <g id=\"patch_25\">\n    <path clip-path=\"url(#pba37a4c341)\" d=\"M 305.166712 224.64 \nL 315.296821 224.64 \nL 315.296821 220.974766 \nL 305.166712 220.974766 \nz\n\" style=\"fill:#1f77b4;opacity:0.4;\"/>\n   </g>\n   <g id=\"patch_26\">\n    <path clip-path=\"url(#pba37a4c341)\" d=\"M 315.296821 224.64 \nL 325.42693 224.64 \nL 325.42693 222.807383 \nL 315.296821 222.807383 \nz\n\" style=\"fill:#1f77b4;opacity:0.4;\"/>\n   </g>\n   <g id=\"matplotlib.axis_1\">\n    <g id=\"xtick_1\">\n     <g id=\"line2d_1\">\n      <defs>\n       <path d=\"M 0 0 \nL 0 3.5 \n\" id=\"ma56ece7c0a\" style=\"stroke:#000000;stroke-width:0.8;\"/>\n      </defs>\n      <g>\n       <use style=\"stroke:#000000;stroke-width:0.8;\" x=\"62.229874\" xlink:href=\"#ma56ece7c0a\" y=\"224.64\"/>\n      </g>\n     </g>\n     <g id=\"text_1\">\n      <!-- −2 -->\n      <defs>\n       <path d=\"M 10.59375 35.5 \nL 73.1875 35.5 \nL 73.1875 27.203125 \nL 10.59375 27.203125 \nz\n\" id=\"DejaVuSans-8722\"/>\n       <path d=\"M 19.1875 8.296875 \nL 53.609375 8.296875 \nL 53.609375 0 \nL 7.328125 0 \nL 7.328125 8.296875 \nQ 12.9375 14.109375 22.625 23.890625 \nQ 32.328125 33.6875 34.8125 36.53125 \nQ 39.546875 41.84375 41.421875 45.53125 \nQ 43.3125 49.21875 43.3125 52.78125 \nQ 43.3125 58.59375 39.234375 62.25 \nQ 35.15625 65.921875 28.609375 65.921875 \nQ 23.96875 65.921875 18.8125 64.3125 \nQ 13.671875 62.703125 7.8125 59.421875 \nL 7.8125 69.390625 \nQ 13.765625 71.78125 18.9375 73 \nQ 24.125 74.21875 28.421875 74.21875 \nQ 39.75 74.21875 46.484375 68.546875 \nQ 53.21875 62.890625 53.21875 53.421875 \nQ 53.21875 48.921875 51.53125 44.890625 \nQ 49.859375 40.875 45.40625 35.40625 \nQ 44.1875 33.984375 37.640625 27.21875 \nQ 31.109375 20.453125 19.1875 8.296875 \nz\n\" id=\"DejaVuSans-50\"/>\n      </defs>\n      <g transform=\"translate(54.85878 239.238437)scale(0.1 -0.1)\">\n       <use xlink:href=\"#DejaVuSans-8722\"/>\n       <use x=\"83.789062\" xlink:href=\"#DejaVuSans-50\"/>\n      </g>\n     </g>\n    </g>\n    <g id=\"xtick_2\">\n     <g id=\"line2d_2\">\n      <g>\n       <use style=\"stroke:#000000;stroke-width:0.8;\" x=\"102.354048\" xlink:href=\"#ma56ece7c0a\" y=\"224.64\"/>\n      </g>\n     </g>\n     <g id=\"text_2\">\n      <!-- 0 -->\n      <defs>\n       <path d=\"M 31.78125 66.40625 \nQ 24.171875 66.40625 20.328125 58.90625 \nQ 16.5 51.421875 16.5 36.375 \nQ 16.5 21.390625 20.328125 13.890625 \nQ 24.171875 6.390625 31.78125 6.390625 \nQ 39.453125 6.390625 43.28125 13.890625 \nQ 47.125 21.390625 47.125 36.375 \nQ 47.125 51.421875 43.28125 58.90625 \nQ 39.453125 66.40625 31.78125 66.40625 \nz\nM 31.78125 74.21875 \nQ 44.046875 74.21875 50.515625 64.515625 \nQ 56.984375 54.828125 56.984375 36.375 \nQ 56.984375 17.96875 50.515625 8.265625 \nQ 44.046875 -1.421875 31.78125 -1.421875 \nQ 19.53125 -1.421875 13.0625 8.265625 \nQ 6.59375 17.96875 6.59375 36.375 \nQ 6.59375 54.828125 13.0625 64.515625 \nQ 19.53125 74.21875 31.78125 74.21875 \nz\n\" id=\"DejaVuSans-48\"/>\n      </defs>\n      <g transform=\"translate(99.172798 239.238437)scale(0.1 -0.1)\">\n       <use xlink:href=\"#DejaVuSans-48\"/>\n      </g>\n     </g>\n    </g>\n    <g id=\"xtick_3\">\n     <g id=\"line2d_3\">\n      <g>\n       <use style=\"stroke:#000000;stroke-width:0.8;\" x=\"142.478222\" xlink:href=\"#ma56ece7c0a\" y=\"224.64\"/>\n      </g>\n     </g>\n     <g id=\"text_3\">\n      <!-- 2 -->\n      <g transform=\"translate(139.296972 239.238437)scale(0.1 -0.1)\">\n       <use xlink:href=\"#DejaVuSans-50\"/>\n      </g>\n     </g>\n    </g>\n    <g id=\"xtick_4\">\n     <g id=\"line2d_4\">\n      <g>\n       <use style=\"stroke:#000000;stroke-width:0.8;\" x=\"182.602396\" xlink:href=\"#ma56ece7c0a\" y=\"224.64\"/>\n      </g>\n     </g>\n     <g id=\"text_4\">\n      <!-- 4 -->\n      <defs>\n       <path d=\"M 37.796875 64.3125 \nL 12.890625 25.390625 \nL 37.796875 25.390625 \nz\nM 35.203125 72.90625 \nL 47.609375 72.90625 \nL 47.609375 25.390625 \nL 58.015625 25.390625 \nL 58.015625 17.1875 \nL 47.609375 17.1875 \nL 47.609375 0 \nL 37.796875 0 \nL 37.796875 17.1875 \nL 4.890625 17.1875 \nL 4.890625 26.703125 \nz\n\" id=\"DejaVuSans-52\"/>\n      </defs>\n      <g transform=\"translate(179.421146 239.238437)scale(0.1 -0.1)\">\n       <use xlink:href=\"#DejaVuSans-52\"/>\n      </g>\n     </g>\n    </g>\n    <g id=\"xtick_5\">\n     <g id=\"line2d_5\">\n      <g>\n       <use style=\"stroke:#000000;stroke-width:0.8;\" x=\"222.726571\" xlink:href=\"#ma56ece7c0a\" y=\"224.64\"/>\n      </g>\n     </g>\n     <g id=\"text_5\">\n      <!-- 6 -->\n      <defs>\n       <path d=\"M 33.015625 40.375 \nQ 26.375 40.375 22.484375 35.828125 \nQ 18.609375 31.296875 18.609375 23.390625 \nQ 18.609375 15.53125 22.484375 10.953125 \nQ 26.375 6.390625 33.015625 6.390625 \nQ 39.65625 6.390625 43.53125 10.953125 \nQ 47.40625 15.53125 47.40625 23.390625 \nQ 47.40625 31.296875 43.53125 35.828125 \nQ 39.65625 40.375 33.015625 40.375 \nz\nM 52.59375 71.296875 \nL 52.59375 62.3125 \nQ 48.875 64.0625 45.09375 64.984375 \nQ 41.3125 65.921875 37.59375 65.921875 \nQ 27.828125 65.921875 22.671875 59.328125 \nQ 17.53125 52.734375 16.796875 39.40625 \nQ 19.671875 43.65625 24.015625 45.921875 \nQ 28.375 48.1875 33.59375 48.1875 \nQ 44.578125 48.1875 50.953125 41.515625 \nQ 57.328125 34.859375 57.328125 23.390625 \nQ 57.328125 12.15625 50.6875 5.359375 \nQ 44.046875 -1.421875 33.015625 -1.421875 \nQ 20.359375 -1.421875 13.671875 8.265625 \nQ 6.984375 17.96875 6.984375 36.375 \nQ 6.984375 53.65625 15.1875 63.9375 \nQ 23.390625 74.21875 37.203125 74.21875 \nQ 40.921875 74.21875 44.703125 73.484375 \nQ 48.484375 72.75 52.59375 71.296875 \nz\n\" id=\"DejaVuSans-54\"/>\n      </defs>\n      <g transform=\"translate(219.545321 239.238437)scale(0.1 -0.1)\">\n       <use xlink:href=\"#DejaVuSans-54\"/>\n      </g>\n     </g>\n    </g>\n    <g id=\"xtick_6\">\n     <g id=\"line2d_6\">\n      <g>\n       <use style=\"stroke:#000000;stroke-width:0.8;\" x=\"262.850745\" xlink:href=\"#ma56ece7c0a\" y=\"224.64\"/>\n      </g>\n     </g>\n     <g id=\"text_6\">\n      <!-- 8 -->\n      <defs>\n       <path d=\"M 31.78125 34.625 \nQ 24.75 34.625 20.71875 30.859375 \nQ 16.703125 27.09375 16.703125 20.515625 \nQ 16.703125 13.921875 20.71875 10.15625 \nQ 24.75 6.390625 31.78125 6.390625 \nQ 38.8125 6.390625 42.859375 10.171875 \nQ 46.921875 13.96875 46.921875 20.515625 \nQ 46.921875 27.09375 42.890625 30.859375 \nQ 38.875 34.625 31.78125 34.625 \nz\nM 21.921875 38.8125 \nQ 15.578125 40.375 12.03125 44.71875 \nQ 8.5 49.078125 8.5 55.328125 \nQ 8.5 64.0625 14.71875 69.140625 \nQ 20.953125 74.21875 31.78125 74.21875 \nQ 42.671875 74.21875 48.875 69.140625 \nQ 55.078125 64.0625 55.078125 55.328125 \nQ 55.078125 49.078125 51.53125 44.71875 \nQ 48 40.375 41.703125 38.8125 \nQ 48.828125 37.15625 52.796875 32.3125 \nQ 56.78125 27.484375 56.78125 20.515625 \nQ 56.78125 9.90625 50.3125 4.234375 \nQ 43.84375 -1.421875 31.78125 -1.421875 \nQ 19.734375 -1.421875 13.25 4.234375 \nQ 6.78125 9.90625 6.78125 20.515625 \nQ 6.78125 27.484375 10.78125 32.3125 \nQ 14.796875 37.15625 21.921875 38.8125 \nz\nM 18.3125 54.390625 \nQ 18.3125 48.734375 21.84375 45.5625 \nQ 25.390625 42.390625 31.78125 42.390625 \nQ 38.140625 42.390625 41.71875 45.5625 \nQ 45.3125 48.734375 45.3125 54.390625 \nQ 45.3125 60.0625 41.71875 63.234375 \nQ 38.140625 66.40625 31.78125 66.40625 \nQ 25.390625 66.40625 21.84375 63.234375 \nQ 18.3125 60.0625 18.3125 54.390625 \nz\n\" id=\"DejaVuSans-56\"/>\n      </defs>\n      <g transform=\"translate(259.669495 239.238437)scale(0.1 -0.1)\">\n       <use xlink:href=\"#DejaVuSans-56\"/>\n      </g>\n     </g>\n    </g>\n    <g id=\"xtick_7\">\n     <g id=\"line2d_7\">\n      <g>\n       <use style=\"stroke:#000000;stroke-width:0.8;\" x=\"302.974919\" xlink:href=\"#ma56ece7c0a\" y=\"224.64\"/>\n      </g>\n     </g>\n     <g id=\"text_7\">\n      <!-- 10 -->\n      <defs>\n       <path d=\"M 12.40625 8.296875 \nL 28.515625 8.296875 \nL 28.515625 63.921875 \nL 10.984375 60.40625 \nL 10.984375 69.390625 \nL 28.421875 72.90625 \nL 38.28125 72.90625 \nL 38.28125 8.296875 \nL 54.390625 8.296875 \nL 54.390625 0 \nL 12.40625 0 \nz\n\" id=\"DejaVuSans-49\"/>\n      </defs>\n      <g transform=\"translate(296.612419 239.238437)scale(0.1 -0.1)\">\n       <use xlink:href=\"#DejaVuSans-49\"/>\n       <use x=\"63.623047\" xlink:href=\"#DejaVuSans-48\"/>\n      </g>\n     </g>\n    </g>\n    <g id=\"xtick_8\">\n     <g id=\"line2d_8\">\n      <g>\n       <use style=\"stroke:#000000;stroke-width:0.8;\" x=\"343.099093\" xlink:href=\"#ma56ece7c0a\" y=\"224.64\"/>\n      </g>\n     </g>\n     <g id=\"text_8\">\n      <!-- 12 -->\n      <g transform=\"translate(336.736593 239.238437)scale(0.1 -0.1)\">\n       <use xlink:href=\"#DejaVuSans-49\"/>\n       <use x=\"63.623047\" xlink:href=\"#DejaVuSans-50\"/>\n      </g>\n     </g>\n    </g>\n   </g>\n   <g id=\"matplotlib.axis_2\">\n    <g id=\"ytick_1\">\n     <g id=\"line2d_9\">\n      <defs>\n       <path d=\"M 0 0 \nL -3.5 0 \n\" id=\"m5d283d4005\" style=\"stroke:#000000;stroke-width:0.8;\"/>\n      </defs>\n      <g>\n       <use style=\"stroke:#000000;stroke-width:0.8;\" x=\"36.465625\" xlink:href=\"#m5d283d4005\" y=\"224.64\"/>\n      </g>\n     </g>\n     <g id=\"text_9\">\n      <!-- 0.00 -->\n      <defs>\n       <path d=\"M 10.6875 12.40625 \nL 21 12.40625 \nL 21 0 \nL 10.6875 0 \nz\n\" id=\"DejaVuSans-46\"/>\n      </defs>\n      <g transform=\"translate(7.2 228.439219)scale(0.1 -0.1)\">\n       <use xlink:href=\"#DejaVuSans-48\"/>\n       <use x=\"63.623047\" xlink:href=\"#DejaVuSans-46\"/>\n       <use x=\"95.410156\" xlink:href=\"#DejaVuSans-48\"/>\n       <use x=\"159.033203\" xlink:href=\"#DejaVuSans-48\"/>\n      </g>\n     </g>\n    </g>\n    <g id=\"ytick_2\">\n     <g id=\"line2d_10\">\n      <g>\n       <use style=\"stroke:#000000;stroke-width:0.8;\" x=\"36.465625\" xlink:href=\"#m5d283d4005\" y=\"178.37211\"/>\n      </g>\n     </g>\n     <g id=\"text_10\">\n      <!-- 0.05 -->\n      <defs>\n       <path d=\"M 10.796875 72.90625 \nL 49.515625 72.90625 \nL 49.515625 64.59375 \nL 19.828125 64.59375 \nL 19.828125 46.734375 \nQ 21.96875 47.46875 24.109375 47.828125 \nQ 26.265625 48.1875 28.421875 48.1875 \nQ 40.625 48.1875 47.75 41.5 \nQ 54.890625 34.8125 54.890625 23.390625 \nQ 54.890625 11.625 47.5625 5.09375 \nQ 40.234375 -1.421875 26.90625 -1.421875 \nQ 22.3125 -1.421875 17.546875 -0.640625 \nQ 12.796875 0.140625 7.71875 1.703125 \nL 7.71875 11.625 \nQ 12.109375 9.234375 16.796875 8.0625 \nQ 21.484375 6.890625 26.703125 6.890625 \nQ 35.15625 6.890625 40.078125 11.328125 \nQ 45.015625 15.765625 45.015625 23.390625 \nQ 45.015625 31 40.078125 35.4375 \nQ 35.15625 39.890625 26.703125 39.890625 \nQ 22.75 39.890625 18.8125 39.015625 \nQ 14.890625 38.140625 10.796875 36.28125 \nz\n\" id=\"DejaVuSans-53\"/>\n      </defs>\n      <g transform=\"translate(7.2 182.171328)scale(0.1 -0.1)\">\n       <use xlink:href=\"#DejaVuSans-48\"/>\n       <use x=\"63.623047\" xlink:href=\"#DejaVuSans-46\"/>\n       <use x=\"95.410156\" xlink:href=\"#DejaVuSans-48\"/>\n       <use x=\"159.033203\" xlink:href=\"#DejaVuSans-53\"/>\n      </g>\n     </g>\n    </g>\n    <g id=\"ytick_3\">\n     <g id=\"line2d_11\">\n      <g>\n       <use style=\"stroke:#000000;stroke-width:0.8;\" x=\"36.465625\" xlink:href=\"#m5d283d4005\" y=\"132.104219\"/>\n      </g>\n     </g>\n     <g id=\"text_11\">\n      <!-- 0.10 -->\n      <g transform=\"translate(7.2 135.903438)scale(0.1 -0.1)\">\n       <use xlink:href=\"#DejaVuSans-48\"/>\n       <use x=\"63.623047\" xlink:href=\"#DejaVuSans-46\"/>\n       <use x=\"95.410156\" xlink:href=\"#DejaVuSans-49\"/>\n       <use x=\"159.033203\" xlink:href=\"#DejaVuSans-48\"/>\n      </g>\n     </g>\n    </g>\n    <g id=\"ytick_4\">\n     <g id=\"line2d_12\">\n      <g>\n       <use style=\"stroke:#000000;stroke-width:0.8;\" x=\"36.465625\" xlink:href=\"#m5d283d4005\" y=\"85.836329\"/>\n      </g>\n     </g>\n     <g id=\"text_12\">\n      <!-- 0.15 -->\n      <g transform=\"translate(7.2 89.635548)scale(0.1 -0.1)\">\n       <use xlink:href=\"#DejaVuSans-48\"/>\n       <use x=\"63.623047\" xlink:href=\"#DejaVuSans-46\"/>\n       <use x=\"95.410156\" xlink:href=\"#DejaVuSans-49\"/>\n       <use x=\"159.033203\" xlink:href=\"#DejaVuSans-53\"/>\n      </g>\n     </g>\n    </g>\n    <g id=\"ytick_5\">\n     <g id=\"line2d_13\">\n      <g>\n       <use style=\"stroke:#000000;stroke-width:0.8;\" x=\"36.465625\" xlink:href=\"#m5d283d4005\" y=\"39.568439\"/>\n      </g>\n     </g>\n     <g id=\"text_13\">\n      <!-- 0.20 -->\n      <g transform=\"translate(7.2 43.367658)scale(0.1 -0.1)\">\n       <use xlink:href=\"#DejaVuSans-48\"/>\n       <use x=\"63.623047\" xlink:href=\"#DejaVuSans-46\"/>\n       <use x=\"95.410156\" xlink:href=\"#DejaVuSans-50\"/>\n       <use x=\"159.033203\" xlink:href=\"#DejaVuSans-48\"/>\n      </g>\n     </g>\n    </g>\n   </g>\n   <g id=\"line2d_14\">\n    <path clip-path=\"url(#pba37a4c341)\" d=\"M 51.683807 224.626418 \nL 61.270063 224.534209 \nL 68.459755 224.248061 \nL 73.252883 223.881342 \nL 78.046012 223.359831 \nL 82.83914 222.670652 \nL 87.632268 221.73363 \nL 90.028832 221.121813 \nL 92.425396 220.3817 \nL 94.82196 219.491799 \nL 97.218524 218.437951 \nL 99.615088 217.216008 \nL 102.011652 215.832604 \nL 106.80478 212.65289 \nL 111.597908 209.082139 \nL 116.391037 205.263052 \nL 121.184165 201.162878 \nL 123.580729 198.934822 \nL 125.977293 196.524033 \nL 128.373857 193.869898 \nL 130.770421 190.902829 \nL 133.166985 187.544408 \nL 135.563549 183.709099 \nL 137.960113 179.310563 \nL 140.356677 174.275072 \nL 142.753241 168.561969 \nL 145.149805 162.187257 \nL 147.546369 155.242662 \nL 157.132626 125.969972 \nL 159.52919 119.455264 \nL 161.925754 113.524986 \nL 164.322318 108.120203 \nL 173.908574 88.095924 \nL 176.305138 82.617573 \nL 181.098266 70.830456 \nL 185.891395 58.859463 \nL 188.287959 53.305805 \nL 190.684523 48.316376 \nL 193.081087 44.064742 \nL 195.477651 40.678119 \nL 197.874215 38.227791 \nL 200.270779 36.725942 \nL 202.667343 36.129791 \nL 205.063907 36.353445 \nL 207.460471 37.286541 \nL 209.857035 38.816766 \nL 212.253599 40.851848 \nL 214.650163 43.3363 \nL 217.046727 46.259457 \nL 219.443291 49.653542 \nL 221.839855 53.582623 \nL 224.23642 58.12478 \nL 226.632984 63.350294 \nL 229.029548 69.298922 \nL 231.426112 75.9597 \nL 233.822676 83.25731 \nL 238.615804 99.13709 \nL 243.408932 115.287809 \nL 245.805496 122.942847 \nL 248.20206 130.143219 \nL 250.598624 136.855743 \nL 252.995188 143.116483 \nL 257.788316 154.594382 \nL 262.581445 165.085638 \nL 264.978009 169.986179 \nL 267.374573 174.620536 \nL 269.771137 178.965555 \nL 272.167701 183.020537 \nL 274.564265 186.808913 \nL 279.357393 193.73349 \nL 284.150521 199.949 \nL 286.547085 202.787469 \nL 288.943649 205.422684 \nL 291.340213 207.839598 \nL 293.736777 210.033886 \nL 296.133342 212.013205 \nL 298.529906 213.793925 \nL 300.92647 215.395456 \nL 303.323034 216.834678 \nL 305.719598 218.122346 \nL 308.116162 219.262416 \nL 310.512726 220.254165 \nL 312.90929 221.096176 \nL 315.305854 221.79071 \nL 317.702418 222.346917 \nL 322.495546 223.118237 \nL 327.288674 223.596169 \nL 336.874931 224.220326 \nL 344.064623 224.497022 \nL 353.650879 224.621095 \nL 356.047443 224.626844 \nL 356.047443 224.626844 \n\" style=\"fill:none;stroke:#1f77b4;stroke-linecap:square;stroke-width:1.5;\"/>\n   </g>\n   <g id=\"patch_27\">\n    <path d=\"M 36.465625 224.64 \nL 36.465625 7.2 \n\" style=\"fill:none;stroke:#000000;stroke-linecap:square;stroke-linejoin:miter;stroke-width:0.8;\"/>\n   </g>\n   <g id=\"patch_28\">\n    <path d=\"M 371.265625 224.64 \nL 371.265625 7.2 \n\" style=\"fill:none;stroke:#000000;stroke-linecap:square;stroke-linejoin:miter;stroke-width:0.8;\"/>\n   </g>\n   <g id=\"patch_29\">\n    <path d=\"M 36.465625 224.64 \nL 371.265625 224.64 \n\" style=\"fill:none;stroke:#000000;stroke-linecap:square;stroke-linejoin:miter;stroke-width:0.8;\"/>\n   </g>\n   <g id=\"patch_30\">\n    <path d=\"M 36.465625 7.2 \nL 371.265625 7.2 \n\" style=\"fill:none;stroke:#000000;stroke-linecap:square;stroke-linejoin:miter;stroke-width:0.8;\"/>\n   </g>\n  </g>\n </g>\n <defs>\n  <clipPath id=\"pba37a4c341\">\n   <rect height=\"217.44\" width=\"334.8\" x=\"36.465625\" y=\"7.2\"/>\n  </clipPath>\n </defs>\n</svg>\n",
      "image/png": "[encoded data removed]"
     },
     "metadata": {
      "needs_background": "light"
     }
    }
   ],
   "source": [
    "sns.distplot(sx)"
   ]
  },
  {
   "cell_type": "markdown",
   "metadata": {},
   "source": [
    "### Gráficos utilizando Plotly"
   ]
  },
  {
   "cell_type": "code",
   "execution_count": 19,
   "metadata": {},
   "outputs": [
    {
     "output_type": "display_data",
     "data": {
      "application/vnd.plotly.v1+json": {
       "config": {
        "plotlyServerURL": "https://plot.ly"
       },
       "data": [
        {
         "type": "scatter",
         "y": [
          4.660913534992663,
          7.367290100529628,
          4.433254687274543,
          1.9457230869816327,
          5.200026022627179,
          4.440773778504296,
          1.711487734531023,
          4.821685041751986,
          3.3173949628967017,
          3.865399780771077,
          6.634863890907481,
          2.6679231916021804,
          1.348896570622323,
          5.6135708820215395,
          3.597602931166183,
          3.212592666676131,
          9.476246873298617,
          4.194100283658478,
          1.4888352943908476,
          9.201014520637314,
          7.871034585791531,
          7.029904448244016,
          4.222037045669527,
          9.406704505214016,
          6.272772002522461,
          7.073589168132489,
          6.513610301244693,
          5.312674382915402,
          4.127978605618466,
          5.171281400719318,
          3.8610698938085717,
          4.45094922318672,
          5.643660087339903,
          5.7812294181101676,
          8.968170824613315,
          5.510409353565002,
          4.904964282349086,
          4.6912169441293115,
          5.772299007928485,
          6.10804196499913,
          3.73128036570198,
          0.9624717176088149,
          5.364737999400878,
          5.124225921668612,
          6.844661135293084,
          8.53324945489452,
          5.443356381614196,
          2.0132130480217034,
          4.839041712921391,
          5.882056499114638,
          6.552843922497939,
          2.135409781970538,
          4.832845266364382,
          4.3907943553908675,
          5.867293404453365,
          -0.9993839563244178,
          3.123039493259215,
          2.996058116024363,
          2.6043811177311955,
          5.194595041271895,
          5.652950849670798,
          4.6670298881322765,
          4.916814511123469,
          9.175747899621847,
          6.8558606344538795,
          5.980815930608224,
          9.844467345924992,
          3.242638620826595,
          8.24929529601843,
          3.028003449151647,
          4.8719696081126385,
          4.763716995558925,
          3.289790319637355,
          6.918133576399008,
          1.8431128423736816,
          4.778402368841426,
          5.256861176001264,
          6.035276731772731,
          2.799875939813538,
          4.328523417339812,
          5.825060418748773,
          3.4599240993087768,
          3.8308010300778497,
          5.602574068880677,
          4.497703691794432,
          4.36457560500901,
          6.311222878908794,
          4.735136566434214,
          6.36745676152747,
          5.276149576387757,
          2.863364911893185,
          6.127573971005084,
          3.6504393121636323,
          7.024150471590973,
          7.754658680840686,
          7.72352556937164,
          4.717585429349501,
          6.9460288123394225,
          1.9201034342266303,
          4.545065000411577,
          2.4765536565662787,
          3.6204988694892872,
          4.156821918675146,
          5.648295822219392,
          4.618200757503709,
          6.45174205070874,
          6.307212073499799,
          2.842524393186997,
          4.541151289459318,
          5.692220243154828,
          6.986207014369136,
          4.65433225279494,
          5.842940366463255,
          5.243751646888055,
          4.206460680831306,
          5.451123154423003,
          6.779584579846436,
          5.900649266200103,
          5.200387456820472,
          5.271340701372697,
          2.872547794689506,
          2.6428763138814357,
          2.4811801148010715,
          1.366281796761791,
          4.220935615374742,
          3.0424756373781636,
          3.8065270825025284,
          5.871295667782547,
          4.010749126360726,
          4.620068229590553,
          4.333565420810325,
          3.716357826454108,
          4.4517929424313945,
          5.6531184011985305,
          4.655031657292222,
          4.272608654736557,
          5.012727155069426,
          7.276994075366472,
          6.048212450708519,
          4.296219372193865,
          -0.017143800720268665,
          7.017252980912548,
          8.507792044711652,
          8.60668067423432,
          2.1894269185505766,
          7.110568181780594,
          8.02647811868119,
          5.964658568975102,
          4.1601224454362145,
          6.550817538407708,
          4.097303408410349,
          6.495783287570459,
          3.668768772236776,
          6.101832399689117,
          4.947597832313984,
          4.924556487259247,
          2.9542358156241932,
          8.785758539860005,
          6.825139794858244,
          3.4464332030949523,
          5.964642166543468,
          4.524375221476215,
          4.456942162842365,
          1.6026942612214001,
          3.2756928709718727,
          5.216878338291891,
          4.637228930343257,
          7.967758506610824,
          4.692480143974686,
          6.487771679194924,
          6.115561499574765,
          4.766705516912458,
          2.4587012538776785,
          6.987341106512266,
          3.9524194844609744,
          3.601331539446745,
          5.547500767471131,
          3.033991805723597,
          5.8117087557643226,
          3.429286597586208,
          3.7156342065317154,
          1.0189363800618572,
          11.119126380246326,
          7.85760686725848,
          5.195000662151984,
          7.7671926898989785,
          2.212297779173248,
          4.611764249965095,
          9.12848345204298,
          5.824983419318284,
          3.270878787720003,
          6.154217708815715,
          5.432615861988277,
          5.446557259867332,
          2.8944218268250133,
          4.261691065513499,
          6.884798063627976,
          4.950069242414588,
          2.6735565982949665,
          3.6925660897930705,
          5.0749244721262565,
          7.371341874371932,
          8.372779082197956,
          7.778765543239034,
          6.716726151323556,
          6.879367909698721,
          3.528458422030239,
          4.827908880556913,
          1.0939387678325434,
          7.359231351098101,
          4.18700592961134,
          5.140023624336004,
          5.164549517072847,
          4.393764511150855,
          5.538862555126487,
          2.1813740811202225,
          2.7615544797932463,
          5.668159376379693,
          5.061773130108728,
          3.8011117479108076,
          5.975824407307132,
          6.334828972989232,
          7.787938562787357,
          1.0965101340384047,
          9.130107230056101,
          2.900069708835551,
          6.0984143248203635,
          3.018635339895452,
          6.725548410625807,
          9.476696324964852,
          5.053013572964863,
          6.5963633496864045,
          5.127680114434768,
          6.369942260998217,
          4.740553593460598,
          4.208128417840829,
          4.127109087000875,
          5.472723167143204,
          3.758063311979104,
          4.42202653952554,
          5.182403968144182,
          0.21104096704754927,
          5.873660670966302,
          6.900633044755265,
          5.168026729045313,
          4.340131740355816,
          3.377243477746812,
          6.025016894419464,
          6.782008053944614,
          4.504667559857039,
          5.009776429250224,
          5.511811116350493,
          3.6772109070472565,
          4.187641283175113,
          6.26401125398457,
          4.974606792805442,
          -0.1661207720842226,
          3.032669254526488,
          3.8681554898525374,
          6.271446628925737,
          5.053811510372665,
          8.582302774029497,
          5.639635875465125,
          5.488231770322334,
          5.206816547232228,
          5.004770990699048,
          3.5493469195331535,
          4.468019819772449,
          4.363364520354747,
          6.19165636568595,
          5.8156047321091995,
          5.290259816176472,
          2.0796911076534617,
          4.33898790782636,
          7.738225881970565,
          7.211197324153857,
          4.48273455372513,
          3.297199651327548,
          6.318739153696345,
          4.684447632699009,
          5.247677601628501,
          6.493160429958038,
          2.6938894035494347,
          5.65860530764193,
          6.180319418323425,
          3.148421016932908,
          7.693857374200969,
          5.549309376135847,
          2.3471474062185242,
          8.119749577922981,
          6.683222948808149,
          6.303463286814459,
          7.068976344498267,
          4.273233866649693,
          7.685478845194202,
          5.476141584114522,
          7.569631184987073,
          6.891431767281191,
          4.286312983378746,
          9.424595928528927,
          5.312474258895827,
          5.056515891981888,
          5.053867431277135,
          2.9015044224074447,
          1.9837045918928609,
          7.361251764626038,
          7.127435419904074,
          3.9926703782616735,
          0.9154968780635944,
          3.615715737028285,
          3.7344619452725594,
          6.320547243680985,
          2.3331857557114075,
          6.547926483678073,
          8.228173146010116,
          5.8189413227669835,
          2.7854141490735955,
          2.416951928278781,
          4.826371542552074,
          5.54637440722581,
          4.771109375321951,
          5.192960679550949,
          2.767684654754802,
          5.750490803927578,
          4.075592603339749,
          5.804926504944233,
          2.815738797510609,
          8.320231924235408,
          2.263352300133589,
          4.765872070151263,
          4.175007480283129,
          4.880849572470204,
          5.469684872658325,
          4.151454084205859,
          7.740248319755454,
          5.434121697249699,
          3.5620410024396656,
          2.803892698048558,
          5.903881931774423,
          4.234093026276695,
          4.057069098372403,
          6.603909384610096,
          4.659846894217166,
          6.005011900188516,
          7.330555250402877,
          5.412279968769726,
          5.202295110162996,
          6.460700207190939,
          6.0667874452855175,
          6.347841135976362,
          6.153631454780724,
          4.154134879784159,
          7.98976423143009,
          5.024281235570518,
          4.758235917311538,
          2.8816955530247252,
          5.171028339494103,
          3.751640676290548,
          4.583648207108508,
          6.812687641492318,
          4.149398669929564,
          7.835544407513488,
          3.172928219994943,
          5.565490104488951,
          6.908455140129236,
          5.202581727843867,
          5.136996877904908,
          6.357526264506337,
          6.5029772990591885,
          7.646901447416791,
          3.539414087635891,
          7.42016658612687,
          6.218465396771227,
          7.139806555940924,
          6.276776398339951,
          2.2918842702405735,
          3.377818751345049,
          7.666868040826321,
          2.4960666948575434,
          6.95834833048246,
          7.195374538733807,
          6.036870351426151,
          8.151373613736563,
          4.072543130200832,
          3.9489545755887354,
          6.3027587044700955,
          7.284452062406876,
          3.2761049705996577,
          0.9121789440968087,
          7.0104031037328935,
          4.931514451150918,
          3.6905868057097857,
          4.109597528897735,
          6.9455953524594225,
          4.824604209663802,
          6.451313477029223,
          4.96784952092845,
          5.893980199947016,
          9.031461479779383,
          7.382206128992766,
          8.90607579383427,
          0.7193281367302706,
          2.917568842857139,
          4.2788720696570905,
          4.716887700674382,
          4.177559137343308,
          8.590837440499486,
          7.719660752741909,
          5.667262508844508,
          8.671956743105943,
          3.0294921221071243,
          6.574727912806491,
          3.8914593706097778,
          4.515953466832814,
          7.258564947549591,
          2.2229564684680585,
          1.8046202772741475,
          5.886776431012643,
          6.119011152363258,
          8.22520615903965,
          3.232004814284492,
          3.9089646247643834,
          7.8933836151426835,
          8.71869869841009,
          6.654974213246033,
          5.707189972982838,
          2.682456023786851,
          6.190990940612786,
          2.533768012527899,
          5.092400835425786,
          6.212156991364193,
          4.433398045899436,
          3.434351769828993,
          6.476636090913314,
          8.715871076874231,
          4.698565291079691,
          2.299912767442727,
          6.702081237722752,
          2.6474207603660362,
          6.073909738897721,
          6.9890325460552525,
          4.589843155145701,
          5.338438435125353,
          3.4021067860968675,
          5.603576810144662,
          3.4292357832991813,
          4.659402969821709,
          2.6265770708687364,
          6.146910636028798,
          2.436272440818765,
          1.960182153984153,
          6.730881282070205,
          7.450741771229284,
          3.7706910768100497,
          7.454459833052653,
          3.669498144322344,
          6.965522966395943,
          3.7909312285055075,
          6.159290122034086,
          7.75522374013757,
          3.5453062111933975,
          6.687225725329489,
          1.3661654814288453,
          4.879595586184745,
          2.442002230134951,
          5.552247745578194,
          5.8626410159141065,
          5.694102768370618,
          8.470604114154714,
          3.113548284239746,
          5.844668080621288,
          6.197526256093629,
          4.108615800263431,
          6.999495479541453,
          6.591627244727237,
          3.860230649772494,
          4.777971470425079,
          6.468068830906632,
          4.233831410143603,
          5.499411537902556,
          4.653080790155738,
          4.351655153026385,
          4.152594616943897,
          5.412787082395937,
          1.3175967043535852,
          4.073958785043894,
          5.229084723279259,
          5.735746018814743,
          4.984900146720102,
          6.379599564209785,
          1.4080725373079765,
          6.735969639950494,
          2.9125637662658885,
          2.5273516283745443,
          6.36756384667567,
          4.527881454316379,
          2.687542443756959,
          2.7024847872806883,
          2.5653330680471664,
          3.9197718172737726,
          4.292871682001101,
          3.178987759840572,
          7.668467022460087,
          5.785863573669392,
          4.583688103833324,
          6.640573606358922,
          5.295478147181194,
          3.4827338269705392,
          2.057223028448056,
          1.0031136780763994,
          4.7077712919124375,
          6.096814489516191,
          6.659123446693912,
          7.06790092036028,
          2.0472139458553618,
          5.926153617853869,
          5.447828139235832,
          4.529329115797888,
          5.280985259515912,
          10.121160540324468,
          2.0766732994264547,
          6.32862837386135,
          2.8294001030460736,
          3.6440516944417842,
          4.244686479670491,
          3.727912713129947,
          7.930716133753805,
          7.512393635069279,
          4.853826083122371,
          4.902554137992464,
          2.9611357189591163,
          3.3538580319371416,
          1.6488108537486936,
          5.824673618740039,
          5.537387596634427,
          3.079631522083661,
          2.3271208401276153,
          4.159600484630223,
          4.5606813765303285,
          5.544130920156505,
          2.7804924252732666,
          8.16608078471504,
          5.5446543482981445,
          4.084234789254051,
          7.440820655265952,
          0.7042927774037802,
          2.984495912421671,
          5.551687052945966,
          4.4173884737480815,
          3.3780794312901183,
          2.792869796479671,
          3.3647957810351556,
          8.214390858252592,
          6.590203507209461,
          4.768093013028205,
          1.7214196241781403,
          8.017097795465556,
          5.886325114689866,
          3.914688461481621,
          6.4906682800447,
          3.905834857618413,
          2.6257818769662586,
          1.140695176329181,
          6.719520239549863,
          5.233608848831379,
          6.895035077148469,
          4.485879088380924,
          4.96274421828718,
          4.822585316993496,
          8.162184162248067,
          7.069730437676224,
          4.50511429422051,
          8.488340368977877,
          3.371627152051658,
          3.563596011091382,
          4.428295272985707,
          6.152641523424401,
          4.098487694692404,
          5.966627452604102,
          4.830375319875136,
          3.437004552731467,
          5.014008663869149,
          1.569624209272345,
          8.025202645826823,
          5.362280198435293,
          7.7419997610220985,
          4.496479235556171,
          6.285284444855128,
          7.474803208428302,
          2.6173187117856456,
          5.632331908937119,
          4.219327983146011,
          4.68824768284572,
          3.6162373816416955,
          6.0291970964521235,
          6.296308506781129,
          4.969868819628388,
          5.816910104259678,
          4.576939054506447,
          4.543106847150379,
          4.492584360119635,
          6.696093559845476,
          5.522828512988223,
          6.320887499632352,
          6.421389721755877,
          6.912335818253043,
          6.194978161813946,
          5.100523970483615,
          6.06980671609709,
          3.202828017681029,
          8.838891649117803,
          7.266608981325984,
          3.285221138690833,
          6.303601284422243,
          4.810280650700339,
          4.715976389663027,
          3.7758831213709527,
          4.8836854127235,
          3.3288573162877677,
          4.238274957255843,
          4.730651958674376,
          5.255151700939016,
          6.329678736569079,
          4.107374327944774,
          4.812026590378669,
          4.565547024034744,
          4.840443316587417,
          0.6305794170804209,
          0.6784700778140689,
          4.270039686012978,
          6.743805442046153,
          3.043211720924426,
          5.912209228999985,
          3.620961339728706,
          4.551855909710664,
          7.382507917808881,
          7.012303996105044,
          6.682602098275891,
          5.029668718444688,
          5.6109897097236985,
          5.367229489443788,
          2.71895150939564,
          6.196858497771746,
          4.723168597080364,
          4.672231339157233,
          3.042161286960152,
          4.247678283213968,
          6.581775626646078,
          6.3740987212467415,
          5.215182615838033,
          5.702688038089731,
          4.211196556773942,
          5.205428211634662,
          1.8066444075430441,
          4.495936692475269,
          4.232297599890586,
          7.519565696009909,
          3.074685443236398,
          3.5204267633011255,
          5.940672022152513,
          3.9861881591819155,
          5.439122562615298,
          4.107139309833464,
          5.783910173925095,
          4.9012132907463455,
          2.799514609809673,
          6.735018740549936,
          3.2047904757103396,
          6.86227905682367,
          7.855218166269005,
          4.132505427041169,
          5.02255232741631,
          3.4393400140472403,
          3.707669954303701,
          1.6134018989695091,
          5.8549349614064345,
          3.5464057774404836,
          5.550021314380828,
          4.7315730237736355,
          4.919136960451605,
          7.670125666278749,
          3.3009067837027137,
          9.030503614422372,
          5.867808518556503,
          3.2001873780667256,
          1.3780366670899813,
          5.039444904317554,
          4.3091651463238305,
          6.130307940370268,
          7.563153397248908,
          4.650912459767589,
          4.672611734834008,
          5.00288230383902,
          3.8625447789456535,
          5.73049694920742,
          3.603092142094086,
          6.224930066381148,
          5.034971620688504,
          7.828030431506599,
          8.620215786326586,
          5.302336950892517,
          7.392707932595808,
          1.7525227070576022,
          3.9688453294096915,
          4.7429286690919295,
          4.278170856577196,
          6.509284315445735,
          3.5213361058101835,
          6.031412707817488,
          7.406298518567338,
          3.162953119045259,
          3.4701653491307427,
          6.798590359124471,
          5.067909055332108,
          7.886810965816063,
          5.888230735083355,
          3.6922966700791515,
          5.513715806833738,
          3.5547407066735297,
          5.215005527729593,
          6.57301272837296,
          5.63149636041151,
          -0.05161686979502811,
          4.9697862226509635,
          2.1088046588402136,
          7.151413700825644,
          5.171637150643229,
          0.23383726260409343,
          6.38719963631941,
          7.50544400309982,
          6.098690134309745,
          2.667048408372089,
          2.9435121144514094,
          6.833720248352894,
          4.203266531583359,
          3.010663420676365,
          7.441058808052644,
          4.0392121615860574,
          4.871684455307225,
          4.921144192396562,
          6.6845608487279415,
          3.6402879836096957,
          1.297994225631852,
          3.9959789402660384,
          3.345616591527095,
          3.8978426251485256,
          7.6968314222361265,
          5.32233591618211,
          5.734604051061331,
          4.135889410654106,
          5.397319560681061,
          3.9646965855972587,
          4.110402573910773,
          3.587037540040281,
          2.798951234329895,
          4.376877291025494,
          3.082832771767234,
          4.376221883322021,
          6.305454561438497,
          5.1208995086632925,
          3.0680121956893007,
          6.530047069814856,
          0.4611979857406059,
          5.94450298598704,
          5.472989791988761,
          9.760531647638949,
          5.789968520565299,
          6.7439286171380575,
          5.469357763026044,
          4.967851512021623,
          6.361503070846721,
          5.897145776137752,
          3.124231535391507,
          8.672906110044627,
          6.006533812114769,
          5.512334147869064,
          4.599840910886088,
          6.542667149634405,
          2.602111788787191,
          3.9211719264154254,
          4.0753843908075815,
          5.730256435824289,
          4.424225514121694,
          5.208353038845563,
          5.932729697100544,
          4.613460424496257,
          2.811714513995979,
          4.2266564979016525,
          6.805371635153294,
          6.64379684241259,
          3.947302010799803,
          2.3002088996614742,
          5.312152113674829,
          3.127922346668564,
          2.8584971781411235,
          3.5393624453868955,
          3.2053340743888628,
          5.185462063441171,
          5.069198588535041,
          5.572553152882649,
          5.274675622444847,
          5.26832913183977,
          7.427719314427698,
          4.617311391916646,
          5.948517839073704,
          4.23504451184253,
          4.83315326213847,
          6.140347313754754,
          1.0038276266095743,
          4.717649283796399,
          9.714600576532956,
          6.729633669881249,
          3.7026152410514035,
          4.132430264778536,
          5.7497566504212045,
          5.3898825927459395,
          6.261215611023808,
          4.212783186527254,
          2.6079780798542918,
          5.839351419712428,
          6.461742264058603,
          5.131240503200429,
          1.78908851192628,
          2.9303890327952526,
          4.952741913420019,
          7.87689956960989,
          5.283078983910353,
          2.7703593651010143,
          3.913384322403558,
          5.00308156143539,
          3.6438194805773456,
          3.8588905588824955,
          6.123955136474739,
          6.2666436810742265,
          0.6340962528313225,
          5.113787805064265,
          4.562324050175689,
          7.753018363697706,
          6.020440975748524,
          3.6317556324745466,
          5.387702839023784,
          6.576789233167928,
          4.188287658800214,
          7.860620193255712,
          3.645240176257219,
          5.743992153113868,
          5.306081969041664,
          7.724360064443353,
          7.46214533798916,
          3.5881339778155965,
          2.45503644716544,
          6.472285355414005,
          5.533474114856174,
          7.070886629442867,
          6.319955128776783,
          5.0127289298624085,
          1.7230036093058865,
          6.288269479018153,
          6.056213398587603,
          6.746360346766112,
          6.340901638835522,
          8.531950115437036,
          2.87724972682487,
          3.216634215635536,
          1.0295214777805772,
          0.38258050286739387,
          6.018577079496256,
          1.9714554747259085,
          4.7085068874371165,
          3.90186914695669,
          3.891886856262559,
          8.518261646065469,
          5.283679336718171,
          7.231396858818414,
          6.556265608425764,
          4.725512205647002,
          4.296810545948169,
          6.39096130525931,
          6.743209483125085,
          7.243318386150772,
          2.9137668572478255,
          5.9860971688407,
          9.588188995312734,
          4.86048051725763,
          7.6802303259926195,
          6.380186337300357,
          6.8328513336472305,
          2.5522328870936475,
          2.8085180809423753,
          7.784455224249842,
          6.469903046556549,
          5.917939286592847,
          2.462598723217465,
          3.2124334889280166,
          3.649064709670111,
          1.9930137610779237,
          4.566561521085143,
          5.4755677360388,
          5.596607635791932,
          1.5497097647359972,
          5.850289924797543,
          5.496532281957589,
          2.4353221312741438,
          8.005889369264533,
          4.472999516334394,
          0.30493892732711636,
          5.45152785570376,
          7.044746636495269,
          7.199676517368696,
          6.043491254191999,
          5.961906946501495,
          5.207322599872239,
          7.598002727866378,
          10.031634320056583,
          5.652068614079265,
          8.592429259311002,
          6.540281501650794,
          5.738246601046709,
          5.443304657820741,
          5.928957142472482,
          4.938510366575573,
          7.206520349464851,
          5.506847677095698,
          6.948680029392411,
          8.391212429808352,
          10.306968922972038,
          6.501978695050085,
          2.8802879690190415,
          2.9256251158929985,
          8.80028192832464,
          7.515160145502766,
          5.592542679523116,
          4.500643124383331,
          4.429927836651435,
          8.52026567510505,
          5.270168576901988,
          2.5537890212773555,
          5.0565129115870056,
          2.8946119157035586,
          3.094877986636997,
          0.5851266024813659,
          7.101669767103045,
          3.6907571320108703,
          8.007182166007187,
          1.4889943761331557,
          5.055776279000904,
          5.70646931507807,
          0.645713578037058,
          6.726155399067883,
          4.099770331702053,
          2.778816049053537,
          8.77360441814461,
          6.0221771667101045,
          4.984496217095487,
          3.92747318756611,
          3.7542760274227636,
          4.446314650949371,
          4.344962336351448,
          2.132669007947781,
          1.9629864359352136,
          6.472181336748909,
          5.4533006622071145,
          4.793310648357056,
          5.0343307291078245,
          2.795140526744416,
          5.570235576565327,
          9.114018808855025,
          7.166320762298472,
          4.923674396575389,
          3.2604902725451934,
          6.490973499001722,
          -0.6230833162564071,
          2.554388163185751,
          1.988577123942417,
          3.7339789287416028,
          6.438665688208996,
          4.658643295898354,
          5.043801074294805,
          3.2647975646013743,
          2.8346716734340256,
          3.9194708822705238,
          4.178791951794235,
          6.0325872068536155,
          5.5614294898215695,
          2.714328386150388,
          7.447450501600381,
          6.866232844823431,
          3.0958666697631587,
          5.845717244450449,
          1.4871386306964047,
          2.9031219808472857,
          8.219534909221368,
          3.9584400392790435,
          2.298397717124104,
          1.6265997072539187,
          3.8235902296399926,
          3.5133975783766203,
          2.5163909121503707,
          8.645785550283119,
          5.646430255093051
         ]
        }
       ],
       "layout": {
        "template": {
         "data": {
          "bar": [
           {
            "error_x": {
             "color": "#2a3f5f"
            },
            "error_y": {
             "color": "#2a3f5f"
            },
            "marker": {
             "line": {
              "color": "#E5ECF6",
              "width": 0.5
             }
            },
            "type": "bar"
           }
          ],
          "barpolar": [
           {
            "marker": {
             "line": {
              "color": "#E5ECF6",
              "width": 0.5
             }
            },
            "type": "barpolar"
           }
          ],
          "carpet": [
           {
            "aaxis": {
             "endlinecolor": "#2a3f5f",
             "gridcolor": "white",
             "linecolor": "white",
             "minorgridcolor": "white",
             "startlinecolor": "#2a3f5f"
            },
            "baxis": {
             "endlinecolor": "#2a3f5f",
             "gridcolor": "white",
             "linecolor": "white",
             "minorgridcolor": "white",
             "startlinecolor": "#2a3f5f"
            },
            "type": "carpet"
           }
          ],
          "choropleth": [
           {
            "colorbar": {
             "outlinewidth": 0,
             "ticks": ""
            },
            "type": "choropleth"
           }
          ],
          "contour": [
           {
            "colorbar": {
             "outlinewidth": 0,
             "ticks": ""
            },
            "colorscale": [
             [
              0,
              "#0d0887"
             ],
             [
              0.1111111111111111,
              "#46039f"
             ],
             [
              0.2222222222222222,
              "#7201a8"
             ],
             [
              0.3333333333333333,
              "#9c179e"
             ],
             [
              0.4444444444444444,
              "#bd3786"
             ],
             [
              0.5555555555555556,
              "#d8576b"
             ],
             [
              0.6666666666666666,
              "#ed7953"
             ],
             [
              0.7777777777777778,
              "#fb9f3a"
             ],
             [
              0.8888888888888888,
              "#fdca26"
             ],
             [
              1,
              "#f0f921"
             ]
            ],
            "type": "contour"
           }
          ],
          "contourcarpet": [
           {
            "colorbar": {
             "outlinewidth": 0,
             "ticks": ""
            },
            "type": "contourcarpet"
           }
          ],
          "heatmap": [
           {
            "colorbar": {
             "outlinewidth": 0,
             "ticks": ""
            },
            "colorscale": [
             [
              0,
              "#0d0887"
             ],
             [
              0.1111111111111111,
              "#46039f"
             ],
             [
              0.2222222222222222,
              "#7201a8"
             ],
             [
              0.3333333333333333,
              "#9c179e"
             ],
             [
              0.4444444444444444,
              "#bd3786"
             ],
             [
              0.5555555555555556,
              "#d8576b"
             ],
             [
              0.6666666666666666,
              "#ed7953"
             ],
             [
              0.7777777777777778,
              "#fb9f3a"
             ],
             [
              0.8888888888888888,
              "#fdca26"
             ],
             [
              1,
              "#f0f921"
             ]
            ],
            "type": "heatmap"
           }
          ],
          "heatmapgl": [
           {
            "colorbar": {
             "outlinewidth": 0,
             "ticks": ""
            },
            "colorscale": [
             [
              0,
              "#0d0887"
             ],
             [
              0.1111111111111111,
              "#46039f"
             ],
             [
              0.2222222222222222,
              "#7201a8"
             ],
             [
              0.3333333333333333,
              "#9c179e"
             ],
             [
              0.4444444444444444,
              "#bd3786"
             ],
             [
              0.5555555555555556,
              "#d8576b"
             ],
             [
              0.6666666666666666,
              "#ed7953"
             ],
             [
              0.7777777777777778,
              "#fb9f3a"
             ],
             [
              0.8888888888888888,
              "#fdca26"
             ],
             [
              1,
              "#f0f921"
             ]
            ],
            "type": "heatmapgl"
           }
          ],
          "histogram": [
           {
            "marker": {
             "colorbar": {
              "outlinewidth": 0,
              "ticks": ""
             }
            },
            "type": "histogram"
           }
          ],
          "histogram2d": [
           {
            "colorbar": {
             "outlinewidth": 0,
             "ticks": ""
            },
            "colorscale": [
             [
              0,
              "#0d0887"
             ],
             [
              0.1111111111111111,
              "#46039f"
             ],
             [
              0.2222222222222222,
              "#7201a8"
             ],
             [
              0.3333333333333333,
              "#9c179e"
             ],
             [
              0.4444444444444444,
              "#bd3786"
             ],
             [
              0.5555555555555556,
              "#d8576b"
             ],
             [
              0.6666666666666666,
              "#ed7953"
             ],
             [
              0.7777777777777778,
              "#fb9f3a"
             ],
             [
              0.8888888888888888,
              "#fdca26"
             ],
             [
              1,
              "#f0f921"
             ]
            ],
            "type": "histogram2d"
           }
          ],
          "histogram2dcontour": [
           {
            "colorbar": {
             "outlinewidth": 0,
             "ticks": ""
            },
            "colorscale": [
             [
              0,
              "#0d0887"
             ],
             [
              0.1111111111111111,
              "#46039f"
             ],
             [
              0.2222222222222222,
              "#7201a8"
             ],
             [
              0.3333333333333333,
              "#9c179e"
             ],
             [
              0.4444444444444444,
              "#bd3786"
             ],
             [
              0.5555555555555556,
              "#d8576b"
             ],
             [
              0.6666666666666666,
              "#ed7953"
             ],
             [
              0.7777777777777778,
              "#fb9f3a"
             ],
             [
              0.8888888888888888,
              "#fdca26"
             ],
             [
              1,
              "#f0f921"
             ]
            ],
            "type": "histogram2dcontour"
           }
          ],
          "mesh3d": [
           {
            "colorbar": {
             "outlinewidth": 0,
             "ticks": ""
            },
            "type": "mesh3d"
           }
          ],
          "parcoords": [
           {
            "line": {
             "colorbar": {
              "outlinewidth": 0,
              "ticks": ""
             }
            },
            "type": "parcoords"
           }
          ],
          "pie": [
           {
            "automargin": true,
            "type": "pie"
           }
          ],
          "scatter": [
           {
            "marker": {
             "colorbar": {
              "outlinewidth": 0,
              "ticks": ""
             }
            },
            "type": "scatter"
           }
          ],
          "scatter3d": [
           {
            "line": {
             "colorbar": {
              "outlinewidth": 0,
              "ticks": ""
             }
            },
            "marker": {
             "colorbar": {
              "outlinewidth": 0,
              "ticks": ""
             }
            },
            "type": "scatter3d"
           }
          ],
          "scattercarpet": [
           {
            "marker": {
             "colorbar": {
              "outlinewidth": 0,
              "ticks": ""
             }
            },
            "type": "scattercarpet"
           }
          ],
          "scattergeo": [
           {
            "marker": {
             "colorbar": {
              "outlinewidth": 0,
              "ticks": ""
             }
            },
            "type": "scattergeo"
           }
          ],
          "scattergl": [
           {
            "marker": {
             "colorbar": {
              "outlinewidth": 0,
              "ticks": ""
             }
            },
            "type": "scattergl"
           }
          ],
          "scattermapbox": [
           {
            "marker": {
             "colorbar": {
              "outlinewidth": 0,
              "ticks": ""
             }
            },
            "type": "scattermapbox"
           }
          ],
          "scatterpolar": [
           {
            "marker": {
             "colorbar": {
              "outlinewidth": 0,
              "ticks": ""
             }
            },
            "type": "scatterpolar"
           }
          ],
          "scatterpolargl": [
           {
            "marker": {
             "colorbar": {
              "outlinewidth": 0,
              "ticks": ""
             }
            },
            "type": "scatterpolargl"
           }
          ],
          "scatterternary": [
           {
            "marker": {
             "colorbar": {
              "outlinewidth": 0,
              "ticks": ""
             }
            },
            "type": "scatterternary"
           }
          ],
          "surface": [
           {
            "colorbar": {
             "outlinewidth": 0,
             "ticks": ""
            },
            "colorscale": [
             [
              0,
              "#0d0887"
             ],
             [
              0.1111111111111111,
              "#46039f"
             ],
             [
              0.2222222222222222,
              "#7201a8"
             ],
             [
              0.3333333333333333,
              "#9c179e"
             ],
             [
              0.4444444444444444,
              "#bd3786"
             ],
             [
              0.5555555555555556,
              "#d8576b"
             ],
             [
              0.6666666666666666,
              "#ed7953"
             ],
             [
              0.7777777777777778,
              "#fb9f3a"
             ],
             [
              0.8888888888888888,
              "#fdca26"
             ],
             [
              1,
              "#f0f921"
             ]
            ],
            "type": "surface"
           }
          ],
          "table": [
           {
            "cells": {
             "fill": {
              "color": "#EBF0F8"
             },
             "line": {
              "color": "white"
             }
            },
            "header": {
             "fill": {
              "color": "#C8D4E3"
             },
             "line": {
              "color": "white"
             }
            },
            "type": "table"
           }
          ]
         },
         "layout": {
          "annotationdefaults": {
           "arrowcolor": "#2a3f5f",
           "arrowhead": 0,
           "arrowwidth": 1
          },
          "coloraxis": {
           "colorbar": {
            "outlinewidth": 0,
            "ticks": ""
           }
          },
          "colorscale": {
           "diverging": [
            [
             0,
             "#8e0152"
            ],
            [
             0.1,
             "#c51b7d"
            ],
            [
             0.2,
             "#de77ae"
            ],
            [
             0.3,
             "#f1b6da"
            ],
            [
             0.4,
             "#fde0ef"
            ],
            [
             0.5,
             "#f7f7f7"
            ],
            [
             0.6,
             "#e6f5d0"
            ],
            [
             0.7,
             "#b8e186"
            ],
            [
             0.8,
             "#7fbc41"
            ],
            [
             0.9,
             "#4d9221"
            ],
            [
             1,
             "#276419"
            ]
           ],
           "sequential": [
            [
             0,
             "#0d0887"
            ],
            [
             0.1111111111111111,
             "#46039f"
            ],
            [
             0.2222222222222222,
             "#7201a8"
            ],
            [
             0.3333333333333333,
             "#9c179e"
            ],
            [
             0.4444444444444444,
             "#bd3786"
            ],
            [
             0.5555555555555556,
             "#d8576b"
            ],
            [
             0.6666666666666666,
             "#ed7953"
            ],
            [
             0.7777777777777778,
             "#fb9f3a"
            ],
            [
             0.8888888888888888,
             "#fdca26"
            ],
            [
             1,
             "#f0f921"
            ]
           ],
           "sequentialminus": [
            [
             0,
             "#0d0887"
            ],
            [
             0.1111111111111111,
             "#46039f"
            ],
            [
             0.2222222222222222,
             "#7201a8"
            ],
            [
             0.3333333333333333,
             "#9c179e"
            ],
            [
             0.4444444444444444,
             "#bd3786"
            ],
            [
             0.5555555555555556,
             "#d8576b"
            ],
            [
             0.6666666666666666,
             "#ed7953"
            ],
            [
             0.7777777777777778,
             "#fb9f3a"
            ],
            [
             0.8888888888888888,
             "#fdca26"
            ],
            [
             1,
             "#f0f921"
            ]
           ]
          },
          "colorway": [
           "#636efa",
           "#EF553B",
           "#00cc96",
           "#ab63fa",
           "#FFA15A",
           "#19d3f3",
           "#FF6692",
           "#B6E880",
           "#FF97FF",
           "#FECB52"
          ],
          "font": {
           "color": "#2a3f5f"
          },
          "geo": {
           "bgcolor": "white",
           "lakecolor": "white",
           "landcolor": "#E5ECF6",
           "showlakes": true,
           "showland": true,
           "subunitcolor": "white"
          },
          "hoverlabel": {
           "align": "left"
          },
          "hovermode": "closest",
          "mapbox": {
           "style": "light"
          },
          "paper_bgcolor": "white",
          "plot_bgcolor": "#E5ECF6",
          "polar": {
           "angularaxis": {
            "gridcolor": "white",
            "linecolor": "white",
            "ticks": ""
           },
           "bgcolor": "#E5ECF6",
           "radialaxis": {
            "gridcolor": "white",
            "linecolor": "white",
            "ticks": ""
           }
          },
          "scene": {
           "xaxis": {
            "backgroundcolor": "#E5ECF6",
            "gridcolor": "white",
            "gridwidth": 2,
            "linecolor": "white",
            "showbackground": true,
            "ticks": "",
            "zerolinecolor": "white"
           },
           "yaxis": {
            "backgroundcolor": "#E5ECF6",
            "gridcolor": "white",
            "gridwidth": 2,
            "linecolor": "white",
            "showbackground": true,
            "ticks": "",
            "zerolinecolor": "white"
           },
           "zaxis": {
            "backgroundcolor": "#E5ECF6",
            "gridcolor": "white",
            "gridwidth": 2,
            "linecolor": "white",
            "showbackground": true,
            "ticks": "",
            "zerolinecolor": "white"
           }
          },
          "shapedefaults": {
           "line": {
            "color": "#2a3f5f"
           }
          },
          "ternary": {
           "aaxis": {
            "gridcolor": "white",
            "linecolor": "white",
            "ticks": ""
           },
           "baxis": {
            "gridcolor": "white",
            "linecolor": "white",
            "ticks": ""
           },
           "bgcolor": "#E5ECF6",
           "caxis": {
            "gridcolor": "white",
            "linecolor": "white",
            "ticks": ""
           }
          },
          "title": {
           "x": 0.05
          },
          "xaxis": {
           "automargin": true,
           "gridcolor": "white",
           "linecolor": "white",
           "ticks": "",
           "title": {
            "standoff": 15
           },
           "zerolinecolor": "white",
           "zerolinewidth": 2
          },
          "yaxis": {
           "automargin": true,
           "gridcolor": "white",
           "linecolor": "white",
           "ticks": "",
           "title": {
            "standoff": 15
           },
           "zerolinecolor": "white",
           "zerolinewidth": 2
          }
         }
        },
        "title": {
         "text": "Hello Plotly"
        }
       }
      },
      "text/html": "<div>\n        \n        \n            <div id=\"1aadc5bd-a321-4cf8-920e-f54a46682066\" class=\"plotly-graph-div\" style=\"height:525px; width:100%;\"></div>\n            <script type=\"text/javascript\">\n                require([\"plotly\"], function(Plotly) {\n                    window.PLOTLYENV=window.PLOTLYENV || {};\n                    \n                if (document.getElementById(\"1aadc5bd-a321-4cf8-920e-f54a46682066\")) {\n                    Plotly.newPlot(\n                        '1aadc5bd-a321-4cf8-920e-f54a46682066',\n                        [{\"type\": \"scatter\", \"y\": [4.660913534992663, 7.367290100529628, 4.433254687274543, 1.9457230869816327, 5.200026022627179, 4.440773778504296, 1.711487734531023, 4.821685041751986, 3.3173949628967017, 3.865399780771077, 6.634863890907481, 2.6679231916021804, 1.348896570622323, 5.6135708820215395, 3.597602931166183, 3.212592666676131, 9.476246873298617, 4.194100283658478, 1.4888352943908476, 9.201014520637314, 7.871034585791531, 7.029904448244016, 4.222037045669527, 9.406704505214016, 6.272772002522461, 7.073589168132489, 6.513610301244693, 5.312674382915402, 4.127978605618466, 5.171281400719318, 3.8610698938085717, 4.45094922318672, 5.643660087339903, 5.7812294181101676, 8.968170824613315, 5.510409353565002, 4.904964282349086, 4.6912169441293115, 5.772299007928485, 6.10804196499913, 3.73128036570198, 0.9624717176088149, 5.364737999400878, 5.124225921668612, 6.844661135293084, 8.53324945489452, 5.443356381614196, 2.0132130480217034, 4.839041712921391, 5.882056499114638, 6.552843922497939, 2.135409781970538, 4.832845266364382, 4.3907943553908675, 5.867293404453365, -0.9993839563244178, 3.123039493259215, 2.996058116024363, 2.6043811177311955, 5.194595041271895, 5.652950849670798, 4.6670298881322765, 4.916814511123469, 9.175747899621847, 6.8558606344538795, 5.980815930608224, 9.844467345924992, 3.242638620826595, 8.24929529601843, 3.028003449151647, 4.8719696081126385, 4.763716995558925, 3.289790319637355, 6.918133576399008, 1.8431128423736816, 4.778402368841426, 5.256861176001264, 6.035276731772731, 2.799875939813538, 4.328523417339812, 5.825060418748773, 3.4599240993087768, 3.8308010300778497, 5.602574068880677, 4.497703691794432, 4.36457560500901, 6.311222878908794, 4.735136566434214, 6.36745676152747, 5.276149576387757, 2.863364911893185, 6.127573971005084, 3.6504393121636323, 7.024150471590973, 7.754658680840686, 7.72352556937164, 4.717585429349501, 6.9460288123394225, 1.9201034342266303, 4.545065000411577, 2.4765536565662787, 3.6204988694892872, 4.156821918675146, 5.648295822219392, 4.618200757503709, 6.45174205070874, 6.307212073499799, 2.842524393186997, 4.541151289459318, 5.692220243154828, 6.986207014369136, 4.65433225279494, 5.842940366463255, 5.243751646888055, 4.206460680831306, 5.451123154423003, 6.779584579846436, 5.900649266200103, 5.200387456820472, 5.271340701372697, 2.872547794689506, 2.6428763138814357, 2.4811801148010715, 1.366281796761791, 4.220935615374742, 3.0424756373781636, 3.8065270825025284, 5.871295667782547, 4.010749126360726, 4.620068229590553, 4.333565420810325, 3.716357826454108, 4.4517929424313945, 5.6531184011985305, 4.655031657292222, 4.272608654736557, 5.012727155069426, 7.276994075366472, 6.048212450708519, 4.296219372193865, -0.017143800720268665, 7.017252980912548, 8.507792044711652, 8.60668067423432, 2.1894269185505766, 7.110568181780594, 8.02647811868119, 5.964658568975102, 4.1601224454362145, 6.550817538407708, 4.097303408410349, 6.495783287570459, 3.668768772236776, 6.101832399689117, 4.947597832313984, 4.924556487259247, 2.9542358156241932, 8.785758539860005, 6.825139794858244, 3.4464332030949523, 5.964642166543468, 4.524375221476215, 4.456942162842365, 1.6026942612214001, 3.2756928709718727, 5.216878338291891, 4.637228930343257, 7.967758506610824, 4.692480143974686, 6.487771679194924, 6.115561499574765, 4.766705516912458, 2.4587012538776785, 6.987341106512266, 3.9524194844609744, 3.601331539446745, 5.547500767471131, 3.033991805723597, 5.8117087557643226, 3.429286597586208, 3.7156342065317154, 1.0189363800618572, 11.119126380246326, 7.85760686725848, 5.195000662151984, 7.7671926898989785, 2.212297779173248, 4.611764249965095, 9.12848345204298, 5.824983419318284, 3.270878787720003, 6.154217708815715, 5.432615861988277, 5.446557259867332, 2.8944218268250133, 4.261691065513499, 6.884798063627976, 4.950069242414588, 2.6735565982949665, 3.6925660897930705, 5.0749244721262565, 7.371341874371932, 8.372779082197956, 7.778765543239034, 6.716726151323556, 6.879367909698721, 3.528458422030239, 4.827908880556913, 1.0939387678325434, 7.359231351098101, 4.18700592961134, 5.140023624336004, 5.164549517072847, 4.393764511150855, 5.538862555126487, 2.1813740811202225, 2.7615544797932463, 5.668159376379693, 5.061773130108728, 3.8011117479108076, 5.975824407307132, 6.334828972989232, 7.787938562787357, 1.0965101340384047, 9.130107230056101, 2.900069708835551, 6.0984143248203635, 3.018635339895452, 6.725548410625807, 9.476696324964852, 5.053013572964863, 6.5963633496864045, 5.127680114434768, 6.369942260998217, 4.740553593460598, 4.208128417840829, 4.127109087000875, 5.472723167143204, 3.758063311979104, 4.42202653952554, 5.182403968144182, 0.21104096704754927, 5.873660670966302, 6.900633044755265, 5.168026729045313, 4.340131740355816, 3.377243477746812, 6.025016894419464, 6.782008053944614, 4.504667559857039, 5.009776429250224, 5.511811116350493, 3.6772109070472565, 4.187641283175113, 6.26401125398457, 4.974606792805442, -0.1661207720842226, 3.032669254526488, 3.8681554898525374, 6.271446628925737, 5.053811510372665, 8.582302774029497, 5.639635875465125, 5.488231770322334, 5.206816547232228, 5.004770990699048, 3.5493469195331535, 4.468019819772449, 4.363364520354747, 6.19165636568595, 5.8156047321091995, 5.290259816176472, 2.0796911076534617, 4.33898790782636, 7.738225881970565, 7.211197324153857, 4.48273455372513, 3.297199651327548, 6.318739153696345, 4.684447632699009, 5.247677601628501, 6.493160429958038, 2.6938894035494347, 5.65860530764193, 6.180319418323425, 3.148421016932908, 7.693857374200969, 5.549309376135847, 2.3471474062185242, 8.119749577922981, 6.683222948808149, 6.303463286814459, 7.068976344498267, 4.273233866649693, 7.685478845194202, 5.476141584114522, 7.569631184987073, 6.891431767281191, 4.286312983378746, 9.424595928528927, 5.312474258895827, 5.056515891981888, 5.053867431277135, 2.9015044224074447, 1.9837045918928609, 7.361251764626038, 7.127435419904074, 3.9926703782616735, 0.9154968780635944, 3.615715737028285, 3.7344619452725594, 6.320547243680985, 2.3331857557114075, 6.547926483678073, 8.228173146010116, 5.8189413227669835, 2.7854141490735955, 2.416951928278781, 4.826371542552074, 5.54637440722581, 4.771109375321951, 5.192960679550949, 2.767684654754802, 5.750490803927578, 4.075592603339749, 5.804926504944233, 2.815738797510609, 8.320231924235408, 2.263352300133589, 4.765872070151263, 4.175007480283129, 4.880849572470204, 5.469684872658325, 4.151454084205859, 7.740248319755454, 5.434121697249699, 3.5620410024396656, 2.803892698048558, 5.903881931774423, 4.234093026276695, 4.057069098372403, 6.603909384610096, 4.659846894217166, 6.005011900188516, 7.330555250402877, 5.412279968769726, 5.202295110162996, 6.460700207190939, 6.0667874452855175, 6.347841135976362, 6.153631454780724, 4.154134879784159, 7.98976423143009, 5.024281235570518, 4.758235917311538, 2.8816955530247252, 5.171028339494103, 3.751640676290548, 4.583648207108508, 6.812687641492318, 4.149398669929564, 7.835544407513488, 3.172928219994943, 5.565490104488951, 6.908455140129236, 5.202581727843867, 5.136996877904908, 6.357526264506337, 6.5029772990591885, 7.646901447416791, 3.539414087635891, 7.42016658612687, 6.218465396771227, 7.139806555940924, 6.276776398339951, 2.2918842702405735, 3.377818751345049, 7.666868040826321, 2.4960666948575434, 6.95834833048246, 7.195374538733807, 6.036870351426151, 8.151373613736563, 4.072543130200832, 3.9489545755887354, 6.3027587044700955, 7.284452062406876, 3.2761049705996577, 0.9121789440968087, 7.0104031037328935, 4.931514451150918, 3.6905868057097857, 4.109597528897735, 6.9455953524594225, 4.824604209663802, 6.451313477029223, 4.96784952092845, 5.893980199947016, 9.031461479779383, 7.382206128992766, 8.90607579383427, 0.7193281367302706, 2.917568842857139, 4.2788720696570905, 4.716887700674382, 4.177559137343308, 8.590837440499486, 7.719660752741909, 5.667262508844508, 8.671956743105943, 3.0294921221071243, 6.574727912806491, 3.8914593706097778, 4.515953466832814, 7.258564947549591, 2.2229564684680585, 1.8046202772741475, 5.886776431012643, 6.119011152363258, 8.22520615903965, 3.232004814284492, 3.9089646247643834, 7.8933836151426835, 8.71869869841009, 6.654974213246033, 5.707189972982838, 2.682456023786851, 6.190990940612786, 2.533768012527899, 5.092400835425786, 6.212156991364193, 4.433398045899436, 3.434351769828993, 6.476636090913314, 8.715871076874231, 4.698565291079691, 2.299912767442727, 6.702081237722752, 2.6474207603660362, 6.073909738897721, 6.9890325460552525, 4.589843155145701, 5.338438435125353, 3.4021067860968675, 5.603576810144662, 3.4292357832991813, 4.659402969821709, 2.6265770708687364, 6.146910636028798, 2.436272440818765, 1.960182153984153, 6.730881282070205, 7.450741771229284, 3.7706910768100497, 7.454459833052653, 3.669498144322344, 6.965522966395943, 3.7909312285055075, 6.159290122034086, 7.75522374013757, 3.5453062111933975, 6.687225725329489, 1.3661654814288453, 4.879595586184745, 2.442002230134951, 5.552247745578194, 5.8626410159141065, 5.694102768370618, 8.470604114154714, 3.113548284239746, 5.844668080621288, 6.197526256093629, 4.108615800263431, 6.999495479541453, 6.591627244727237, 3.860230649772494, 4.777971470425079, 6.468068830906632, 4.233831410143603, 5.499411537902556, 4.653080790155738, 4.351655153026385, 4.152594616943897, 5.412787082395937, 1.3175967043535852, 4.073958785043894, 5.229084723279259, 5.735746018814743, 4.984900146720102, 6.379599564209785, 1.4080725373079765, 6.735969639950494, 2.9125637662658885, 2.5273516283745443, 6.36756384667567, 4.527881454316379, 2.687542443756959, 2.7024847872806883, 2.5653330680471664, 3.9197718172737726, 4.292871682001101, 3.178987759840572, 7.668467022460087, 5.785863573669392, 4.583688103833324, 6.640573606358922, 5.295478147181194, 3.4827338269705392, 2.057223028448056, 1.0031136780763994, 4.7077712919124375, 6.096814489516191, 6.659123446693912, 7.06790092036028, 2.0472139458553618, 5.926153617853869, 5.447828139235832, 4.529329115797888, 5.280985259515912, 10.121160540324468, 2.0766732994264547, 6.32862837386135, 2.8294001030460736, 3.6440516944417842, 4.244686479670491, 3.727912713129947, 7.930716133753805, 7.512393635069279, 4.853826083122371, 4.902554137992464, 2.9611357189591163, 3.3538580319371416, 1.6488108537486936, 5.824673618740039, 5.537387596634427, 3.079631522083661, 2.3271208401276153, 4.159600484630223, 4.5606813765303285, 5.544130920156505, 2.7804924252732666, 8.16608078471504, 5.5446543482981445, 4.084234789254051, 7.440820655265952, 0.7042927774037802, 2.984495912421671, 5.551687052945966, 4.4173884737480815, 3.3780794312901183, 2.792869796479671, 3.3647957810351556, 8.214390858252592, 6.590203507209461, 4.768093013028205, 1.7214196241781403, 8.017097795465556, 5.886325114689866, 3.914688461481621, 6.4906682800447, 3.905834857618413, 2.6257818769662586, 1.140695176329181, 6.719520239549863, 5.233608848831379, 6.895035077148469, 4.485879088380924, 4.96274421828718, 4.822585316993496, 8.162184162248067, 7.069730437676224, 4.50511429422051, 8.488340368977877, 3.371627152051658, 3.563596011091382, 4.428295272985707, 6.152641523424401, 4.098487694692404, 5.966627452604102, 4.830375319875136, 3.437004552731467, 5.014008663869149, 1.569624209272345, 8.025202645826823, 5.362280198435293, 7.7419997610220985, 4.496479235556171, 6.285284444855128, 7.474803208428302, 2.6173187117856456, 5.632331908937119, 4.219327983146011, 4.68824768284572, 3.6162373816416955, 6.0291970964521235, 6.296308506781129, 4.969868819628388, 5.816910104259678, 4.576939054506447, 4.543106847150379, 4.492584360119635, 6.696093559845476, 5.522828512988223, 6.320887499632352, 6.421389721755877, 6.912335818253043, 6.194978161813946, 5.100523970483615, 6.06980671609709, 3.202828017681029, 8.838891649117803, 7.266608981325984, 3.285221138690833, 6.303601284422243, 4.810280650700339, 4.715976389663027, 3.7758831213709527, 4.8836854127235, 3.3288573162877677, 4.238274957255843, 4.730651958674376, 5.255151700939016, 6.329678736569079, 4.107374327944774, 4.812026590378669, 4.565547024034744, 4.840443316587417, 0.6305794170804209, 0.6784700778140689, 4.270039686012978, 6.743805442046153, 3.043211720924426, 5.912209228999985, 3.620961339728706, 4.551855909710664, 7.382507917808881, 7.012303996105044, 6.682602098275891, 5.029668718444688, 5.6109897097236985, 5.367229489443788, 2.71895150939564, 6.196858497771746, 4.723168597080364, 4.672231339157233, 3.042161286960152, 4.247678283213968, 6.581775626646078, 6.3740987212467415, 5.215182615838033, 5.702688038089731, 4.211196556773942, 5.205428211634662, 1.8066444075430441, 4.495936692475269, 4.232297599890586, 7.519565696009909, 3.074685443236398, 3.5204267633011255, 5.940672022152513, 3.9861881591819155, 5.439122562615298, 4.107139309833464, 5.783910173925095, 4.9012132907463455, 2.799514609809673, 6.735018740549936, 3.2047904757103396, 6.86227905682367, 7.855218166269005, 4.132505427041169, 5.02255232741631, 3.4393400140472403, 3.707669954303701, 1.6134018989695091, 5.8549349614064345, 3.5464057774404836, 5.550021314380828, 4.7315730237736355, 4.919136960451605, 7.670125666278749, 3.3009067837027137, 9.030503614422372, 5.867808518556503, 3.2001873780667256, 1.3780366670899813, 5.039444904317554, 4.3091651463238305, 6.130307940370268, 7.563153397248908, 4.650912459767589, 4.672611734834008, 5.00288230383902, 3.8625447789456535, 5.73049694920742, 3.603092142094086, 6.224930066381148, 5.034971620688504, 7.828030431506599, 8.620215786326586, 5.302336950892517, 7.392707932595808, 1.7525227070576022, 3.9688453294096915, 4.7429286690919295, 4.278170856577196, 6.509284315445735, 3.5213361058101835, 6.031412707817488, 7.406298518567338, 3.162953119045259, 3.4701653491307427, 6.798590359124471, 5.067909055332108, 7.886810965816063, 5.888230735083355, 3.6922966700791515, 5.513715806833738, 3.5547407066735297, 5.215005527729593, 6.57301272837296, 5.63149636041151, -0.05161686979502811, 4.9697862226509635, 2.1088046588402136, 7.151413700825644, 5.171637150643229, 0.23383726260409343, 6.38719963631941, 7.50544400309982, 6.098690134309745, 2.667048408372089, 2.9435121144514094, 6.833720248352894, 4.203266531583359, 3.010663420676365, 7.441058808052644, 4.0392121615860574, 4.871684455307225, 4.921144192396562, 6.6845608487279415, 3.6402879836096957, 1.297994225631852, 3.9959789402660384, 3.345616591527095, 3.8978426251485256, 7.6968314222361265, 5.32233591618211, 5.734604051061331, 4.135889410654106, 5.397319560681061, 3.9646965855972587, 4.110402573910773, 3.587037540040281, 2.798951234329895, 4.376877291025494, 3.082832771767234, 4.376221883322021, 6.305454561438497, 5.1208995086632925, 3.0680121956893007, 6.530047069814856, 0.4611979857406059, 5.94450298598704, 5.472989791988761, 9.760531647638949, 5.789968520565299, 6.7439286171380575, 5.469357763026044, 4.967851512021623, 6.361503070846721, 5.897145776137752, 3.124231535391507, 8.672906110044627, 6.006533812114769, 5.512334147869064, 4.599840910886088, 6.542667149634405, 2.602111788787191, 3.9211719264154254, 4.0753843908075815, 5.730256435824289, 4.424225514121694, 5.208353038845563, 5.932729697100544, 4.613460424496257, 2.811714513995979, 4.2266564979016525, 6.805371635153294, 6.64379684241259, 3.947302010799803, 2.3002088996614742, 5.312152113674829, 3.127922346668564, 2.8584971781411235, 3.5393624453868955, 3.2053340743888628, 5.185462063441171, 5.069198588535041, 5.572553152882649, 5.274675622444847, 5.26832913183977, 7.427719314427698, 4.617311391916646, 5.948517839073704, 4.23504451184253, 4.83315326213847, 6.140347313754754, 1.0038276266095743, 4.717649283796399, 9.714600576532956, 6.729633669881249, 3.7026152410514035, 4.132430264778536, 5.7497566504212045, 5.3898825927459395, 6.261215611023808, 4.212783186527254, 2.6079780798542918, 5.839351419712428, 6.461742264058603, 5.131240503200429, 1.78908851192628, 2.9303890327952526, 4.952741913420019, 7.87689956960989, 5.283078983910353, 2.7703593651010143, 3.913384322403558, 5.00308156143539, 3.6438194805773456, 3.8588905588824955, 6.123955136474739, 6.2666436810742265, 0.6340962528313225, 5.113787805064265, 4.562324050175689, 7.753018363697706, 6.020440975748524, 3.6317556324745466, 5.387702839023784, 6.576789233167928, 4.188287658800214, 7.860620193255712, 3.645240176257219, 5.743992153113868, 5.306081969041664, 7.724360064443353, 7.46214533798916, 3.5881339778155965, 2.45503644716544, 6.472285355414005, 5.533474114856174, 7.070886629442867, 6.319955128776783, 5.0127289298624085, 1.7230036093058865, 6.288269479018153, 6.056213398587603, 6.746360346766112, 6.340901638835522, 8.531950115437036, 2.87724972682487, 3.216634215635536, 1.0295214777805772, 0.38258050286739387, 6.018577079496256, 1.9714554747259085, 4.7085068874371165, 3.90186914695669, 3.891886856262559, 8.518261646065469, 5.283679336718171, 7.231396858818414, 6.556265608425764, 4.725512205647002, 4.296810545948169, 6.39096130525931, 6.743209483125085, 7.243318386150772, 2.9137668572478255, 5.9860971688407, 9.588188995312734, 4.86048051725763, 7.6802303259926195, 6.380186337300357, 6.8328513336472305, 2.5522328870936475, 2.8085180809423753, 7.784455224249842, 6.469903046556549, 5.917939286592847, 2.462598723217465, 3.2124334889280166, 3.649064709670111, 1.9930137610779237, 4.566561521085143, 5.4755677360388, 5.596607635791932, 1.5497097647359972, 5.850289924797543, 5.496532281957589, 2.4353221312741438, 8.005889369264533, 4.472999516334394, 0.30493892732711636, 5.45152785570376, 7.044746636495269, 7.199676517368696, 6.043491254191999, 5.961906946501495, 5.207322599872239, 7.598002727866378, 10.031634320056583, 5.652068614079265, 8.592429259311002, 6.540281501650794, 5.738246601046709, 5.443304657820741, 5.928957142472482, 4.938510366575573, 7.206520349464851, 5.506847677095698, 6.948680029392411, 8.391212429808352, 10.306968922972038, 6.501978695050085, 2.8802879690190415, 2.9256251158929985, 8.80028192832464, 7.515160145502766, 5.592542679523116, 4.500643124383331, 4.429927836651435, 8.52026567510505, 5.270168576901988, 2.5537890212773555, 5.0565129115870056, 2.8946119157035586, 3.094877986636997, 0.5851266024813659, 7.101669767103045, 3.6907571320108703, 8.007182166007187, 1.4889943761331557, 5.055776279000904, 5.70646931507807, 0.645713578037058, 6.726155399067883, 4.099770331702053, 2.778816049053537, 8.77360441814461, 6.0221771667101045, 4.984496217095487, 3.92747318756611, 3.7542760274227636, 4.446314650949371, 4.344962336351448, 2.132669007947781, 1.9629864359352136, 6.472181336748909, 5.4533006622071145, 4.793310648357056, 5.0343307291078245, 2.795140526744416, 5.570235576565327, 9.114018808855025, 7.166320762298472, 4.923674396575389, 3.2604902725451934, 6.490973499001722, -0.6230833162564071, 2.554388163185751, 1.988577123942417, 3.7339789287416028, 6.438665688208996, 4.658643295898354, 5.043801074294805, 3.2647975646013743, 2.8346716734340256, 3.9194708822705238, 4.178791951794235, 6.0325872068536155, 5.5614294898215695, 2.714328386150388, 7.447450501600381, 6.866232844823431, 3.0958666697631587, 5.845717244450449, 1.4871386306964047, 2.9031219808472857, 8.219534909221368, 3.9584400392790435, 2.298397717124104, 1.6265997072539187, 3.8235902296399926, 3.5133975783766203, 2.5163909121503707, 8.645785550283119, 5.646430255093051]}],\n                        {\"template\": {\"data\": {\"bar\": [{\"error_x\": {\"color\": \"#2a3f5f\"}, \"error_y\": {\"color\": \"#2a3f5f\"}, \"marker\": {\"line\": {\"color\": \"#E5ECF6\", \"width\": 0.5}}, \"type\": \"bar\"}], \"barpolar\": [{\"marker\": {\"line\": {\"color\": \"#E5ECF6\", \"width\": 0.5}}, \"type\": \"barpolar\"}], \"carpet\": [{\"aaxis\": {\"endlinecolor\": \"#2a3f5f\", \"gridcolor\": \"white\", \"linecolor\": \"white\", \"minorgridcolor\": \"white\", \"startlinecolor\": \"#2a3f5f\"}, \"baxis\": {\"endlinecolor\": \"#2a3f5f\", \"gridcolor\": \"white\", \"linecolor\": \"white\", \"minorgridcolor\": \"white\", \"startlinecolor\": \"#2a3f5f\"}, \"type\": \"carpet\"}], \"choropleth\": [{\"colorbar\": {\"outlinewidth\": 0, \"ticks\": \"\"}, \"type\": \"choropleth\"}], \"contour\": [{\"colorbar\": {\"outlinewidth\": 0, \"ticks\": \"\"}, \"colorscale\": [[0.0, \"#0d0887\"], [0.1111111111111111, \"#46039f\"], [0.2222222222222222, \"#7201a8\"], [0.3333333333333333, \"#9c179e\"], [0.4444444444444444, \"#bd3786\"], [0.5555555555555556, \"#d8576b\"], [0.6666666666666666, \"#ed7953\"], [0.7777777777777778, \"#fb9f3a\"], [0.8888888888888888, \"#fdca26\"], [1.0, \"#f0f921\"]], \"type\": \"contour\"}], \"contourcarpet\": [{\"colorbar\": {\"outlinewidth\": 0, \"ticks\": \"\"}, \"type\": \"contourcarpet\"}], \"heatmap\": [{\"colorbar\": {\"outlinewidth\": 0, \"ticks\": \"\"}, \"colorscale\": [[0.0, \"#0d0887\"], [0.1111111111111111, \"#46039f\"], [0.2222222222222222, \"#7201a8\"], [0.3333333333333333, \"#9c179e\"], [0.4444444444444444, \"#bd3786\"], [0.5555555555555556, \"#d8576b\"], [0.6666666666666666, \"#ed7953\"], [0.7777777777777778, \"#fb9f3a\"], [0.8888888888888888, \"#fdca26\"], [1.0, \"#f0f921\"]], \"type\": \"heatmap\"}], \"heatmapgl\": [{\"colorbar\": {\"outlinewidth\": 0, \"ticks\": \"\"}, \"colorscale\": [[0.0, \"#0d0887\"], [0.1111111111111111, \"#46039f\"], [0.2222222222222222, \"#7201a8\"], [0.3333333333333333, \"#9c179e\"], [0.4444444444444444, \"#bd3786\"], [0.5555555555555556, \"#d8576b\"], [0.6666666666666666, \"#ed7953\"], [0.7777777777777778, \"#fb9f3a\"], [0.8888888888888888, \"#fdca26\"], [1.0, \"#f0f921\"]], \"type\": \"heatmapgl\"}], \"histogram\": [{\"marker\": {\"colorbar\": {\"outlinewidth\": 0, \"ticks\": \"\"}}, \"type\": \"histogram\"}], \"histogram2d\": [{\"colorbar\": {\"outlinewidth\": 0, \"ticks\": \"\"}, \"colorscale\": [[0.0, \"#0d0887\"], [0.1111111111111111, \"#46039f\"], [0.2222222222222222, \"#7201a8\"], [0.3333333333333333, \"#9c179e\"], [0.4444444444444444, \"#bd3786\"], [0.5555555555555556, \"#d8576b\"], [0.6666666666666666, \"#ed7953\"], [0.7777777777777778, \"#fb9f3a\"], [0.8888888888888888, \"#fdca26\"], [1.0, \"#f0f921\"]], \"type\": \"histogram2d\"}], \"histogram2dcontour\": [{\"colorbar\": {\"outlinewidth\": 0, \"ticks\": \"\"}, \"colorscale\": [[0.0, \"#0d0887\"], [0.1111111111111111, \"#46039f\"], [0.2222222222222222, \"#7201a8\"], [0.3333333333333333, \"#9c179e\"], [0.4444444444444444, \"#bd3786\"], [0.5555555555555556, \"#d8576b\"], [0.6666666666666666, \"#ed7953\"], [0.7777777777777778, \"#fb9f3a\"], [0.8888888888888888, \"#fdca26\"], [1.0, \"#f0f921\"]], \"type\": \"histogram2dcontour\"}], \"mesh3d\": [{\"colorbar\": {\"outlinewidth\": 0, \"ticks\": \"\"}, \"type\": \"mesh3d\"}], \"parcoords\": [{\"line\": {\"colorbar\": {\"outlinewidth\": 0, \"ticks\": \"\"}}, \"type\": \"parcoords\"}], \"pie\": [{\"automargin\": true, \"type\": \"pie\"}], \"scatter\": [{\"marker\": {\"colorbar\": {\"outlinewidth\": 0, \"ticks\": \"\"}}, \"type\": \"scatter\"}], \"scatter3d\": [{\"line\": {\"colorbar\": {\"outlinewidth\": 0, \"ticks\": \"\"}}, \"marker\": {\"colorbar\": {\"outlinewidth\": 0, \"ticks\": \"\"}}, \"type\": \"scatter3d\"}], \"scattercarpet\": [{\"marker\": {\"colorbar\": {\"outlinewidth\": 0, \"ticks\": \"\"}}, \"type\": \"scattercarpet\"}], \"scattergeo\": [{\"marker\": {\"colorbar\": {\"outlinewidth\": 0, \"ticks\": \"\"}}, \"type\": \"scattergeo\"}], \"scattergl\": [{\"marker\": {\"colorbar\": {\"outlinewidth\": 0, \"ticks\": \"\"}}, \"type\": \"scattergl\"}], \"scattermapbox\": [{\"marker\": {\"colorbar\": {\"outlinewidth\": 0, \"ticks\": \"\"}}, \"type\": \"scattermapbox\"}], \"scatterpolar\": [{\"marker\": {\"colorbar\": {\"outlinewidth\": 0, \"ticks\": \"\"}}, \"type\": \"scatterpolar\"}], \"scatterpolargl\": [{\"marker\": {\"colorbar\": {\"outlinewidth\": 0, \"ticks\": \"\"}}, \"type\": \"scatterpolargl\"}], \"scatterternary\": [{\"marker\": {\"colorbar\": {\"outlinewidth\": 0, \"ticks\": \"\"}}, \"type\": \"scatterternary\"}], \"surface\": [{\"colorbar\": {\"outlinewidth\": 0, \"ticks\": \"\"}, \"colorscale\": [[0.0, \"#0d0887\"], [0.1111111111111111, \"#46039f\"], [0.2222222222222222, \"#7201a8\"], [0.3333333333333333, \"#9c179e\"], [0.4444444444444444, \"#bd3786\"], [0.5555555555555556, \"#d8576b\"], [0.6666666666666666, \"#ed7953\"], [0.7777777777777778, \"#fb9f3a\"], [0.8888888888888888, \"#fdca26\"], [1.0, \"#f0f921\"]], \"type\": \"surface\"}], \"table\": [{\"cells\": {\"fill\": {\"color\": \"#EBF0F8\"}, \"line\": {\"color\": \"white\"}}, \"header\": {\"fill\": {\"color\": \"#C8D4E3\"}, \"line\": {\"color\": \"white\"}}, \"type\": \"table\"}]}, \"layout\": {\"annotationdefaults\": {\"arrowcolor\": \"#2a3f5f\", \"arrowhead\": 0, \"arrowwidth\": 1}, \"coloraxis\": {\"colorbar\": {\"outlinewidth\": 0, \"ticks\": \"\"}}, \"colorscale\": {\"diverging\": [[0, \"#8e0152\"], [0.1, \"#c51b7d\"], [0.2, \"#de77ae\"], [0.3, \"#f1b6da\"], [0.4, \"#fde0ef\"], [0.5, \"#f7f7f7\"], [0.6, \"#e6f5d0\"], [0.7, \"#b8e186\"], [0.8, \"#7fbc41\"], [0.9, \"#4d9221\"], [1, \"#276419\"]], \"sequential\": [[0.0, \"#0d0887\"], [0.1111111111111111, \"#46039f\"], [0.2222222222222222, \"#7201a8\"], [0.3333333333333333, \"#9c179e\"], [0.4444444444444444, \"#bd3786\"], [0.5555555555555556, \"#d8576b\"], [0.6666666666666666, \"#ed7953\"], [0.7777777777777778, \"#fb9f3a\"], [0.8888888888888888, \"#fdca26\"], [1.0, \"#f0f921\"]], \"sequentialminus\": [[0.0, \"#0d0887\"], [0.1111111111111111, \"#46039f\"], [0.2222222222222222, \"#7201a8\"], [0.3333333333333333, \"#9c179e\"], [0.4444444444444444, \"#bd3786\"], [0.5555555555555556, \"#d8576b\"], [0.6666666666666666, \"#ed7953\"], [0.7777777777777778, \"#fb9f3a\"], [0.8888888888888888, \"#fdca26\"], [1.0, \"#f0f921\"]]}, \"colorway\": [\"#636efa\", \"#EF553B\", \"#00cc96\", \"#ab63fa\", \"#FFA15A\", \"#19d3f3\", \"#FF6692\", \"#B6E880\", \"#FF97FF\", \"#FECB52\"], \"font\": {\"color\": \"#2a3f5f\"}, \"geo\": {\"bgcolor\": \"white\", \"lakecolor\": \"white\", \"landcolor\": \"#E5ECF6\", \"showlakes\": true, \"showland\": true, \"subunitcolor\": \"white\"}, \"hoverlabel\": {\"align\": \"left\"}, \"hovermode\": \"closest\", \"mapbox\": {\"style\": \"light\"}, \"paper_bgcolor\": \"white\", \"plot_bgcolor\": \"#E5ECF6\", \"polar\": {\"angularaxis\": {\"gridcolor\": \"white\", \"linecolor\": \"white\", \"ticks\": \"\"}, \"bgcolor\": \"#E5ECF6\", \"radialaxis\": {\"gridcolor\": \"white\", \"linecolor\": \"white\", \"ticks\": \"\"}}, \"scene\": {\"xaxis\": {\"backgroundcolor\": \"#E5ECF6\", \"gridcolor\": \"white\", \"gridwidth\": 2, \"linecolor\": \"white\", \"showbackground\": true, \"ticks\": \"\", \"zerolinecolor\": \"white\"}, \"yaxis\": {\"backgroundcolor\": \"#E5ECF6\", \"gridcolor\": \"white\", \"gridwidth\": 2, \"linecolor\": \"white\", \"showbackground\": true, \"ticks\": \"\", \"zerolinecolor\": \"white\"}, \"zaxis\": {\"backgroundcolor\": \"#E5ECF6\", \"gridcolor\": \"white\", \"gridwidth\": 2, \"linecolor\": \"white\", \"showbackground\": true, \"ticks\": \"\", \"zerolinecolor\": \"white\"}}, \"shapedefaults\": {\"line\": {\"color\": \"#2a3f5f\"}}, \"ternary\": {\"aaxis\": {\"gridcolor\": \"white\", \"linecolor\": \"white\", \"ticks\": \"\"}, \"baxis\": {\"gridcolor\": \"white\", \"linecolor\": \"white\", \"ticks\": \"\"}, \"bgcolor\": \"#E5ECF6\", \"caxis\": {\"gridcolor\": \"white\", \"linecolor\": \"white\", \"ticks\": \"\"}}, \"title\": {\"x\": 0.05}, \"xaxis\": {\"automargin\": true, \"gridcolor\": \"white\", \"linecolor\": \"white\", \"ticks\": \"\", \"title\": {\"standoff\": 15}, \"zerolinecolor\": \"white\", \"zerolinewidth\": 2}, \"yaxis\": {\"automargin\": true, \"gridcolor\": \"white\", \"linecolor\": \"white\", \"ticks\": \"\", \"title\": {\"standoff\": 15}, \"zerolinecolor\": \"white\", \"zerolinewidth\": 2}}}, \"title\": {\"text\": \"Hello Plotly\"}},\n                        {\"responsive\": true}\n                    ).then(function(){\n                            \nvar gd = document.getElementById('1aadc5bd-a321-4cf8-920e-f54a46682066');\nvar x = new MutationObserver(function (mutations, observer) {{\n        var display = window.getComputedStyle(gd).display;\n        if (!display || display === 'none') {{\n            console.log([gd, 'removed!']);\n            Plotly.purge(gd);\n            observer.disconnect();\n        }}\n}});\n\n// Listen for the removal of the full notebook cells\nvar notebookContainer = gd.closest('#notebook-container');\nif (notebookContainer) {{\n    x.observe(notebookContainer, {childList: true});\n}}\n\n// Listen for the clearing of the current output cell\nvar outputEl = gd.closest('.output');\nif (outputEl) {{\n    x.observe(outputEl, {childList: true});\n}}\n\n                        })\n                };\n                });\n            </script>\n        </div>"
     },
     "metadata": {}
    }
   ],
   "source": [
    "import plotly.graph_objects as go\n",
    "fig = go.Figure()\n",
    "fig.add_trace(go.Scatter(y=sx))\n",
    "fig.update_layout(title = 'Hello Plotly')\n",
    "fig.show()"
   ]
  }
 ]
}